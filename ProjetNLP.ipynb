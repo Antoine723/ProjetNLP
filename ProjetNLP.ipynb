{
  "nbformat": 4,
  "nbformat_minor": 0,
  "metadata": {
    "colab": {
      "name": "ProjetNLP.ipynb",
      "provenance": [],
      "collapsed_sections": [],
      "include_colab_link": true
    },
    "kernelspec": {
      "name": "python3",
      "display_name": "Python 3"
    }
  },
  "cells": [
    {
      "cell_type": "markdown",
      "metadata": {
        "id": "view-in-github",
        "colab_type": "text"
      },
      "source": [
        "<a href=\"https://colab.research.google.com/github/Antoine723/ProjetNLP/blob/main/ProjetNLP.ipynb\" target=\"_parent\"><img src=\"https://colab.research.google.com/assets/colab-badge.svg\" alt=\"Open In Colab\"/></a>"
      ]
    },
    {
      "cell_type": "code",
      "metadata": {
        "colab": {
          "base_uri": "https://localhost:8080/"
        },
        "id": "HLK8-Mgvzzrg",
        "outputId": "fdb8e336-e913-4d4e-9ef8-f2dab2f17591"
      },
      "source": [
        "from google.colab import drive\r\n",
        "drive.mount('/content/gdrive/')"
      ],
      "execution_count": 1,
      "outputs": [
        {
          "output_type": "stream",
          "text": [
            "Mounted at /content/gdrive/\n"
          ],
          "name": "stdout"
        }
      ]
    },
    {
      "cell_type": "code",
      "metadata": {
        "colab": {
          "base_uri": "https://localhost:8080/"
        },
        "id": "yN10vLT_0P2y",
        "outputId": "9fae1ac5-d7d5-4396-e3d9-1a47ea2c5c3e"
      },
      "source": [
        "import pandas as pd\r\n",
        "import nltk\r\n",
        "from nltk.tokenize import word_tokenize\r\n",
        "from nltk.text import Text\r\n",
        "from nltk.stem.lancaster import LancasterStemmer\r\n",
        "from nltk.stem import WordNetLemmatizer\r\n",
        "import numpy as np\r\n",
        "import tensorflow as tf\r\n",
        "\r\n",
        "from gdrive.MyDrive.ProjetNLP.rnn_utils import *\r\n",
        "\r\n",
        "nltk.download('punkt')\r\n",
        "nltk.download('stopwords')\r\n",
        "nltk.download('wordnet')\r\n",
        "nltk.download('averaged_perceptron_tagger')"
      ],
      "execution_count": 2,
      "outputs": [
        {
          "output_type": "stream",
          "text": [
            "[nltk_data] Downloading package punkt to /root/nltk_data...\n",
            "[nltk_data]   Unzipping tokenizers/punkt.zip.\n",
            "[nltk_data] Downloading package stopwords to /root/nltk_data...\n",
            "[nltk_data]   Unzipping corpora/stopwords.zip.\n",
            "[nltk_data] Downloading package wordnet to /root/nltk_data...\n",
            "[nltk_data]   Unzipping corpora/wordnet.zip.\n",
            "[nltk_data] Downloading package averaged_perceptron_tagger to\n",
            "[nltk_data]     /root/nltk_data...\n",
            "[nltk_data]   Unzipping taggers/averaged_perceptron_tagger.zip.\n"
          ],
          "name": "stdout"
        },
        {
          "output_type": "execute_result",
          "data": {
            "text/plain": [
              "True"
            ]
          },
          "metadata": {
            "tags": []
          },
          "execution_count": 2
        }
      ]
    },
    {
      "cell_type": "code",
      "metadata": {
        "colab": {
          "base_uri": "https://localhost:8080/"
        },
        "id": "oSV85DFHuEVj",
        "outputId": "46f93d83-f0f3-4df3-b91a-5b15eddffb6c"
      },
      "source": [
        "pip install --pre gql[all]"
      ],
      "execution_count": 3,
      "outputs": [
        {
          "output_type": "stream",
          "text": [
            "Collecting gql[all]\n",
            "\u001b[?25l  Downloading https://files.pythonhosted.org/packages/42/28/36e625703311aa14ac2c3e6679da3c826ec06f4fa7302c1baf093486c9e3/gql-3.0.0a5.tar.gz (81kB)\n",
            "\u001b[K     |████████████████████████████████| 81kB 2.6MB/s \n",
            "\u001b[?25hCollecting graphql-core<3.2,>=3.1\n",
            "\u001b[?25l  Downloading https://files.pythonhosted.org/packages/40/4b/b38f0d94bfc47e3d1ba19dd8368d5808962891cfa1f7505072da4ff16acf/graphql_core-3.1.3-py3-none-any.whl (186kB)\n",
            "\u001b[K     |████████████████████████████████| 194kB 13.9MB/s \n",
            "\u001b[?25hCollecting yarl<2.0,>=1.6\n",
            "\u001b[?25l  Downloading https://files.pythonhosted.org/packages/f1/62/046834c5fc998c88ab2ef722f5d42122230a632212c8afa76418324f53ff/yarl-1.6.3-cp37-cp37m-manylinux2014_x86_64.whl (294kB)\n",
            "\u001b[K     |████████████████████████████████| 296kB 47.7MB/s \n",
            "\u001b[?25hCollecting aiohttp<3.8.0,>=3.7.1\n",
            "\u001b[?25l  Downloading https://files.pythonhosted.org/packages/5b/a6/d36302eba284f4f427dc288f6b3ecd7f89d739cfca206b80311d3158f6d9/aiohttp-3.7.4-cp37-cp37m-manylinux2014_x86_64.whl (1.3MB)\n",
            "\u001b[K     |████████████████████████████████| 1.3MB 46.5MB/s \n",
            "\u001b[?25hRequirement already satisfied: requests<3,>=2.23 in /usr/local/lib/python3.7/dist-packages (from gql[all]) (2.23.0)\n",
            "Collecting websockets<9,>=8.1\n",
            "\u001b[?25l  Downloading https://files.pythonhosted.org/packages/5a/0b/3ebc752392a368af14dd24ee041683416ac6d2463eead94b311b11e41c82/websockets-8.1-cp37-cp37m-manylinux2010_x86_64.whl (79kB)\n",
            "\u001b[K     |████████████████████████████████| 81kB 7.9MB/s \n",
            "\u001b[?25hRequirement already satisfied: idna>=2.0 in /usr/local/lib/python3.7/dist-packages (from yarl<2.0,>=1.6->gql[all]) (2.10)\n",
            "Requirement already satisfied: typing-extensions>=3.7.4; python_version < \"3.8\" in /usr/local/lib/python3.7/dist-packages (from yarl<2.0,>=1.6->gql[all]) (3.7.4.3)\n",
            "Collecting multidict>=4.0\n",
            "\u001b[?25l  Downloading https://files.pythonhosted.org/packages/7c/a6/4123b8165acbe773d1a8dc8e3f0d1edea16d29f7de018eda769abb56bd30/multidict-5.1.0-cp37-cp37m-manylinux2014_x86_64.whl (142kB)\n",
            "\u001b[K     |████████████████████████████████| 143kB 41.8MB/s \n",
            "\u001b[?25hRequirement already satisfied: attrs>=17.3.0 in /usr/local/lib/python3.7/dist-packages (from aiohttp<3.8.0,>=3.7.1->gql[all]) (20.3.0)\n",
            "Collecting async-timeout<4.0,>=3.0\n",
            "  Downloading https://files.pythonhosted.org/packages/e1/1e/5a4441be21b0726c4464f3f23c8b19628372f606755a9d2e46c187e65ec4/async_timeout-3.0.1-py3-none-any.whl\n",
            "Requirement already satisfied: chardet<4.0,>=2.0 in /usr/local/lib/python3.7/dist-packages (from aiohttp<3.8.0,>=3.7.1->gql[all]) (3.0.4)\n",
            "Requirement already satisfied: urllib3!=1.25.0,!=1.25.1,<1.26,>=1.21.1 in /usr/local/lib/python3.7/dist-packages (from requests<3,>=2.23->gql[all]) (1.24.3)\n",
            "Requirement already satisfied: certifi>=2017.4.17 in /usr/local/lib/python3.7/dist-packages (from requests<3,>=2.23->gql[all]) (2020.12.5)\n",
            "Building wheels for collected packages: gql\n",
            "  Building wheel for gql (setup.py) ... \u001b[?25l\u001b[?25hdone\n",
            "  Created wheel for gql: filename=gql-3.0.0a5-py2.py3-none-any.whl size=32709 sha256=abbe43c7a700227825381a2ef8933a5b7eda081b20327bdb752d2c57ec202a40\n",
            "  Stored in directory: /root/.cache/pip/wheels/59/f4/5b/d4678b0d7c58b5b71cb44b849833ab4e6a0a9e4b6aad41b016\n",
            "Successfully built gql\n",
            "Installing collected packages: graphql-core, multidict, yarl, async-timeout, aiohttp, websockets, gql\n",
            "Successfully installed aiohttp-3.7.4 async-timeout-3.0.1 gql-3.0.0a5 graphql-core-3.1.3 multidict-5.1.0 websockets-8.1 yarl-1.6.3\n"
          ],
          "name": "stdout"
        }
      ]
    },
    {
      "cell_type": "code",
      "metadata": {
        "id": "Zyr7Wo3-w3F2"
      },
      "source": [
        "import requests\r\n",
        "import json"
      ],
      "execution_count": 4,
      "outputs": []
    },
    {
      "cell_type": "code",
      "metadata": {
        "colab": {
          "base_uri": "https://localhost:8080/"
        },
        "id": "caekNUL8uI2-",
        "outputId": "36aa4017-7c8c-485f-da42-0e9b71e26e8b"
      },
      "source": [
        "api_key='MI6JGndpuW3Kyc9cIjj5of9AhZUKET4JlGdRsiBnGZjL2ofbChjG0ksWdjXrHvdRN3cHosvu6bkDcvdOUCc5A_m-IAciq5kpjSqAxt5euSYLzB0q0vvWqmuyrI86YHYx'\r\n",
        "headers = {'Authorization': 'Bearer %s' % api_key}\r\n",
        "\r\n",
        "url = \"https://api.yelp.com/v3/businesses/FEVQpbOPOwAPNIgO7D3xxw/reviews\"\r\n",
        "req = requests.get(url, headers=headers)\r\n",
        "\r\n",
        "# print(json.loads(req.text))\r\n",
        "dataset=json.loads(req.text)[\"reviews\"]\r\n",
        "x_test=[]\r\n",
        "for i in range(len(dataset)):\r\n",
        "  x_test.append(dataset[i][\"text\"])\r\n",
        "x_test2=x_test.copy()\r\n",
        "print(x_test)\r\n",
        "print(x_test2)"
      ],
      "execution_count": 64,
      "outputs": [
        {
          "output_type": "stream",
          "text": [
            "[\"Truth be told if it was up to me I'd be giving 4/5 stars, we did order recently and our cheese fries weren't delivered, couldn't speak with anyone from...\", 'Happened to be in the city today and not too far from here so I had to stop by and pick up cheese fries (I love those crinkle cuts!) and a shake. Yum. Tbh,...', 'Before I moved to NY, my first ever trip to the city was in 2005 - this was when Shake Shack had this one lone original location, and it was an event to go...']\n",
            "[\"Truth be told if it was up to me I'd be giving 4/5 stars, we did order recently and our cheese fries weren't delivered, couldn't speak with anyone from...\", 'Happened to be in the city today and not too far from here so I had to stop by and pick up cheese fries (I love those crinkle cuts!) and a shake. Yum. Tbh,...', 'Before I moved to NY, my first ever trip to the city was in 2005 - this was when Shake Shack had this one lone original location, and it was an event to go...']\n"
          ],
          "name": "stdout"
        }
      ]
    },
    {
      "cell_type": "code",
      "metadata": {
        "id": "LzY87idiwDd0"
      },
      "source": [
        "df=pd.read_csv('gdrive/MyDrive/ProjetNLP/training.1600000.processed.noemoticon.csv',encoding=\"ISO-8859-1\",header=None)\r\n",
        "dat=np.array([df.iloc[0:1000][5],df.iloc[800000:801000][5]])\r\n",
        "\r\n",
        "# print(data)"
      ],
      "execution_count": 6,
      "outputs": []
    },
    {
      "cell_type": "markdown",
      "metadata": {
        "id": "1B-hOwDR3sIq"
      },
      "source": [
        "# Traitement"
      ]
    },
    {
      "cell_type": "code",
      "metadata": {
        "id": "dF6A8FMM47E9"
      },
      "source": [
        "def processing(data):\r\n",
        "  if (isinstance(data,str)):\r\n",
        "    #MINUSCULES\r\n",
        "    data=data.lower()\r\n",
        "    #TOKENIZATION\r\n",
        "    tokenizer = nltk.RegexpTokenizer(r'\\w+')\r\n",
        "    data=tokenizer.tokenize(data)\r\n",
        "\r\n",
        "    #STOPWORDS\r\n",
        "    data=[w for w in data if not w in list(nltk.corpus.stopwords.words('english'))]\r\n",
        "    #STEMMING\r\n",
        "    stemmer=LancasterStemmer()\r\n",
        "    data=[stemmer.stem(w) for w in data]\r\n",
        "\r\n",
        "    #LEMMATIZATION\r\n",
        "    Word_Lemmatizer = WordNetLemmatizer()\r\n",
        "    data=[Word_Lemmatizer.lemmatize(w) for w in data]\r\n",
        "\r\n",
        "  elif (isinstance(data,list)):\r\n",
        "    for i in range(len(data)):\r\n",
        "      data[i]=data[i].lower()\r\n",
        "\r\n",
        "    #TOKENIZATION\r\n",
        "    tokenizer = nltk.RegexpTokenizer(r'\\w+')\r\n",
        "\r\n",
        "    for i in range(len(data)):\r\n",
        "      data[i]=tokenizer.tokenize(data[i])\r\n",
        "\r\n",
        "    #STOPWORDS\r\n",
        "    for i in range(len(data)):\r\n",
        "      data[i]=[w for w in data[i] if not w in list(nltk.corpus.stopwords.words('english'))]\r\n",
        "        \r\n",
        "\r\n",
        "    #STEMMING\r\n",
        "    stemmer=LancasterStemmer()\r\n",
        "    for i in range(len(data)):\r\n",
        "      data[i]=[stemmer.stem(w) for w in data[i]]\r\n",
        "\r\n",
        "    #LEMMATIZATION\r\n",
        "    Word_Lemmatizer = WordNetLemmatizer()\r\n",
        "    for i in range(len(data)):\r\n",
        "      data[i]=[Word_Lemmatizer.lemmatize(w) for w in data[i]]\r\n",
        "    # print(data)\r\n",
        "\r\n",
        "  else :\r\n",
        "    #MINUSCULES\r\n",
        "    for i in range(len(data)):\r\n",
        "      for j in range(len(data[i])):\r\n",
        "        data[i][j]=data[i][j].lower()\r\n",
        "\r\n",
        "    #TOKENIZATION\r\n",
        "    tokenizer = nltk.RegexpTokenizer(r'\\w+')\r\n",
        "\r\n",
        "    for i in range(len(data)):\r\n",
        "      for j in range(len(data[i])):\r\n",
        "        data[i][j]=tokenizer.tokenize(data[i][j])\r\n",
        "\r\n",
        "    #STOPWORDS\r\n",
        "    for i in range(len(data)):\r\n",
        "      for j in range(len(data[i])):\r\n",
        "        data[i][j]=[w for w in data[i][j] if not w in list(nltk.corpus.stopwords.words('english'))]\r\n",
        "        \r\n",
        "\r\n",
        "    #STEMMING\r\n",
        "    stemmer=LancasterStemmer()\r\n",
        "    for i in range(len(data)):\r\n",
        "      for j in range(len(data[i])):\r\n",
        "        data[i][j]=[stemmer.stem(w) for w in data[i][j]]\r\n",
        "\r\n",
        "    #LEMMATIZATION\r\n",
        "    Word_Lemmatizer = WordNetLemmatizer()\r\n",
        "    for i in range(len(data)):\r\n",
        "      for j in range(len(data[i])):\r\n",
        "        data[i][j]=[Word_Lemmatizer.lemmatize(w) for w in data[i][j]]\r\n",
        "    # print(data)\r\n",
        "\r\n",
        "  return data"
      ],
      "execution_count": 65,
      "outputs": []
    },
    {
      "cell_type": "code",
      "metadata": {
        "id": "4pLWssXU_PxP"
      },
      "source": [
        "# dat=processing(dat)\r\n",
        "# processing(\"This movie is a very bad one\")"
      ],
      "execution_count": 201,
      "outputs": []
    },
    {
      "cell_type": "code",
      "metadata": {
        "id": "kvmIP6CULg9f"
      },
      "source": [
        "dat=transformWords(dat,defineVocab(dat))"
      ],
      "execution_count": 139,
      "outputs": []
    },
    {
      "cell_type": "code",
      "metadata": {
        "id": "ykywsQVzQfCE"
      },
      "source": [
        "from collections import defaultdict\r\n",
        "def defineVocab(data):\r\n",
        "  v=set()\r\n",
        "  for i in range(len(data)):\r\n",
        "    for j in range(len(data[i])):\r\n",
        "      for h in range(len(data[i][j])):\r\n",
        "        v.add(data[i][j][h])\r\n",
        "\r\n",
        "  vocab = defaultdict(lambda: 0)\r\n",
        "  vocab['<PAD>'] = 1\r\n",
        "\r\n",
        "  j=2\r\n",
        "  for i in v:\r\n",
        "    vocab[i]=j\r\n",
        "    j+=1\r\n",
        "  return vocab\r\n",
        "  # print(len(vocab))"
      ],
      "execution_count": 48,
      "outputs": []
    },
    {
      "cell_type": "code",
      "metadata": {
        "colab": {
          "base_uri": "https://localhost:8080/"
        },
        "id": "WWPclM0w4iZn",
        "outputId": "25f33d3c-c629-428f-ebf6-ee3138a76272"
      },
      "source": [
        "voca=defineVocab(dat)\r\n",
        "print(voca)"
      ],
      "execution_count": 114,
      "outputs": [
        {
          "output_type": "stream",
          "text": [
            "defaultdict(<function defineVocab.<locals>.<lambda> at 0x7f7187910440>, {'<PAD>': 1, 'understand': 2, 'hatch': 3, 'ein': 4, 'officialtil': 5, 'colorofviol': 6, 'mang': 7, 'max': 8, 'tayswift': 9, 'ord': 10, 'miss_tattoo': 11, 'visit': 12, 'damnit': 13, 'swe': 14, 'idiot': 15, 'tragedy': 16, 'vivekg86': 17, 'blood': 18, 'bear': 19, 'smil': 20, 'ted': 21, 'endors': 22, 'stripper': 23, 'tejano': 24, 'jel': 25, 'bech': 26, 'radford': 27, '00': 28, 'woot': 29, 'wudnt': 30, 'baawwngggg': 31, 'planet': 32, 'deez': 33, 'gold': 34, 'westney': 35, 'chriswolfe2007': 36, 'apothecaryjer': 37, 'ym': 38, 'kisluvk': 39, 'overitnow': 40, 'plagu': 41, 'danzero': 42, 'julieebaby': 43, 'heah': 44, 'lorigam': 45, 'mi': 46, 'workin': 47, 'dizzy': 48, 'memb': 49, 'died': 50, 'as': 51, 'sidekick': 52, 'tshirt': 53, 'cut': 54, 'mad': 55, 'nationwideclass': 56, 'nd': 57, 'camer': 58, 'ind': 59, 'slushy': 60, 'yoeyfreshy': 61, 'co': 62, 'frog': 63, 'wow': 64, 'bluff': 65, 'behav': 66, 'tmrw': 67, 'useless': 68, 'fix': 69, 'extrem': 70, 'thepartysc': 71, '6pm': 72, 'wahhh': 73, 'drsn8': 74, 'forgot': 75, 'valley': 76, 'transform': 77, 'boobookittifukk': 78, 'upon': 79, 'austin': 80, 'dislik': 81, 'hillsong': 82, 'most': 83, 'wal': 84, 'mistressathenax': 85, 'pear': 86, 'boooooo': 87, 'urrrgg': 88, 'germandoo': 89, '0g': 90, 'boyfriend': 91, 'amand': 92, 'confus': 93, 'missin': 94, 'without': 95, 'ds9': 96, 'haz': 97, 'feel': 98, 'randomlyn': 99, 'som': 100, 'finland': 101, 'quad': 102, 'mari_chiquitita': 103, 'cop': 104, 'bird': 105, 'gain': 106, 'c8bvqh': 107, 'cooooold': 108, 'vene2ia': 109, 'angilen': 110, 'past': 111, 'abl': 112, 'anyon': 113, '64': 114, 'googl': 115, 'strongly': 116, 'flawd': 117, 'foreseen': 118, 'reannaremick': 119, 'appear': 120, 'gyal': 121, 'wig': 122, 'lonelybob': 123, 'air': 124, 'commut': 125, 'screencaps': 126, 'tor': 127, 'evid': 128, 'musicmonday': 129, 'piec': 130, 'nighty': 131, 'z': 132, 'usb': 133, 'alic': 134, 'malcolm': 135, 'moch': 136, 'smokey_robinson': 137, 'coord': 138, 'cronotrig': 139, 'wonderfulll': 140, 'stringer': 141, 'sytycd': 142, 'ruddy': 143, 'gawwd': 144, 'turtl': 145, 'sal': 146, 'freak': 147, 'alirght': 148, 'bbm': 149, 'marny': 150, 'ua': 151, 'refus': 152, 'unfortun': 153, 'dam': 154, 'cook': 155, 'ehhh': 156, 'half': 157, 'lik': 158, 'act': 159, 'follow': 160, 'ox': 161, 'burn': 162, 'kendallmassey': 163, 'jclayville': 164, '½c': 165, 'britney': 166, 'abigaillovesyou': 167, 'friend': 168, 'mak': 169, 'aussy': 170, 'held': 171, 'sketchy': 172, 'stee322': 173, 'malach': 174, 'holl': 175, 'stubborn': 176, 'consecut': 177, 'complain': 178, 'gotchu': 179, 'school': 180, 'gloom': 181, 'ryuuenx': 182, 'lyndeeezy': 183, 'ginay': 184, 'nephew': 185, 'bass': 186, 'i3renda': 187, 'johnny': 188, 'meg': 189, 'joycekim': 190, 'mean': 191, 's3': 192, '58': 193, 'mynameisgerard': 194, 'yucky': 195, 'linny': 196, 'stevonelson': 197, 'bridgetsbeach': 198, 'hero': 199, 'reconnect': 200, 'brooklynun': 201, 'petp': 202, 'woah': 203, 'microsd': 204, 'pls': 205, 'accord': 206, 'sar': 207, 'okieanny': 208, 'jaredleto': 209, 'disbeliev': 210, 'webp': 211, 'occupy': 212, 'tour': 213, 'icon': 214, 'chat': 215, 'mobl': 216, 'cubic': 217, 'myk': 218, 'hoytfortenberry': 219, 'tek': 220, 'julieand': 221, 'sniffinglu': 222, 'jean': 223, 'menu': 224, 'xallthatjazzx': 225, '85': 226, 'ent': 227, 'gum': 228, 'select': 229, 'hottest': 230, 'technolog': 231, 'dog': 232, 'roflmao': 233, 'ston': 234, 'hint': 235, 'break': 236, 'netb': 237, 'megafast': 238, 'drain': 239, 'gr8t': 240, 'alex': 241, 'awwww': 242, 'kmac': 243, 'madam': 244, 'send': 245, 'pooky': 246, 'abay': 247, 'hair': 248, 'surfclubhit': 249, '9pm': 250, 'evil': 251, 'batmann': 252, 'laughin': 253, '3418': 254, 'turtleb': 255, 'er': 256, 'deserv': 257, '700': 258, 'kristencampis': 259, 'yaaaay': 260, 'club': 261, 'reflect': 262, 'burgaw': 263, 'michaeltao': 264, '47ish': 265, 'lll': 266, 'jinxc': 267, 'map': 268, 'bel': 269, 'got': 270, 'breadandbadg': 271, 'essay': 272, 'dolfinf': 273, 'ny': 274, 'ide': 275, 'markegl': 276, 'secretfanofu': 277, 'thx': 278, 'everytim': 279, '2y2y1': 280, 'hadtobeyou': 281, 'localtweep': 282, 'stress': 283, 'fromggwithlov': 284, 'yaay': 285, 'gym': 286, 'jlsbby': 287, 'homo': 288, 'n__n': 289, 'in': 290, 'therudetyp': 291, 'sod': 292, 'took': 293, 'marybethun': 294, 'healthy': 295, 'slip': 296, 'carolin': 297, 'dienst': 298, 'rodney': 299, '2y2e0': 300, 'back': 301, 'boo': 302, 'cannot': 303, 'bathtub': 304, 'evalu': 305, 'chowmein': 306, 'scen': 307, 'correcl': 308, 'januarycrimson': 309, 'mysteezradio': 310, 'react': 311, 'everybody': 312, 'east': 313, 'unbeliev': 314, 'pope_mello': 315, 'ref_story_id': 316, 'went': 317, 'root': 318, 'daveb41': 319, 'favorit': 320, '½tieï': 321, 'ulit': 322, 'term': 323, 'piczo': 324, 'dan': 325, 'yarn': 326, 'sat': 327, 'crew': 328, 'cho': 329, 'flavo': 330, 'aid': 331, 'gam': 332, 'clamp': 333, 'throughout': 334, 'docu': 335, 'rout': 336, 'rent': 337, 'giant': 338, '23': 339, 'hol': 340, 'insomn': 341, 'recommend': 342, 'sean': 343, 'groov': 344, 'chimpytwit': 345, 'slap': 346, 'afraid': 347, 'breakn': 348, 'dfizzy': 349, 'imagin': 350, 'twitterberry': 351, 'terwilleg': 352, 'lif': 353, 'michig': 354, 'niqq': 355, 'foo': 356, 'domain': 357, 'it': 358, 'sorryto': 359, 'honey': 360, 'epistemograph': 361, 'newborn': 362, 'nick': 363, 'provid': 364, 'paul_e_wog': 365, 'lt_algonquin': 366, 'ubuntu': 367, 'snyd': 368, 'fanclub': 369, 'hiphopnonstoptv': 370, 'hahah': 371, 'paulfeig': 372, 'knight': 373, 'util': 374, 'syn': 375, 'regard': 376, 'fuck': 377, 'fling': 378, 'maddyv': 379, 'endearingevan': 380, 'try': 381, 'gar': 382, 'xd': 383, 'near': 384, 'beach': 385, 'yaknow': 386, 'broad': 387, 'nileyjileyluv': 388, 'davvvero': 389, 'herm': 390, 'jeff': 391, 'yawn': 392, 'conetticutt': 393, 'homey': 394, 'empressy': 395, 'workout': 396, 'deb': 397, 'heartbrok': 398, 'conosco': 399, 'hash': 400, 'loo': 401, 'hat': 402, 'appra': 403, 'pointlessword': 404, 'fat': 405, 'intern': 406, 'tar': 407, 'forget': 408, 'ligo': 409, 'end': 410, 'promo': 411, 'belliestobaby': 412, 'lastnight': 413, 'rashmid': 414, 'ak': 415, 'access': 416, 'mea': 417, 'mantr': 418, 'screen': 419, 'doooo': 420, 'val': 421, 'idol': 422, 'bye': 423, 'heydem': 424, 'ac': 425, 'davesjessic': 426, 'misterphip': 427, 'smarrison': 428, 'stern': 429, 'ninjaguitarsex': 430, 'wild': 431, 'tatiana_k': 432, 'typ': 433, '18': 434, 'trol': 435, 'caught': 436, 'wolfso': 437, 'embrac': 438, 'xshorty4lifex': 439, 'megeld': 440, 'laugh': 441, 'furnit': 442, '182': 443, 'wil': 444, 'robby': 445, 'greek': 446, 'chest': 447, 'mim': 448, 'itun': 449, 'wid': 450, 'o_o': 451, 'sasi': 452, 'm4rkm': 453, 'marathon': 454, 'getty': 455, 'vert': 456, 'exhaust': 457, 'may': 458, 'grew': 459, 'un': 460, 'bob': 461, 'benackerm': 462, 'abby': 463, 'doc': 464, 'phoneless': 465, 'birutagm': 466, 'deposit': 467, 'elissakim': 468, 'ca': 469, 'mgpotter': 470, 'amaz': 471, 'andrew': 472, 'inevit': 473, 'tummy': 474, 'fam': 475, 'poof': 476, 'dannyvegasbaby': 477, 'blackberry': 478, 'oat': 479, 'distribut': 480, 'jessdub': 481, 'duchess': 482, 'cookrn': 483, 'lat': 484, 'fuckkkkkkkkkkkkk': 485, 'nil': 486, 'nikhilnaray': 487, 'sunday': 488, 'jennma': 489, 'halloween': 490, 'sleepless': 491, 'ghost': 492, '37': 493, '72': 494, 'jasonandjody': 495, 'xm': 496, 'mil': 497, 'v': 498, 'brb': 499, 'tea': 500, 'espanol': 501, 'branch': 502, 'sarah': 503, 'murph': 504, 'refer': 505, 'list': 506, 'twitterricolsss': 507, 'sneak': 508, 'happy': 509, 'goodnight': 510, 'musik': 511, 'andreabak': 512, 'corn': 513, 'rip': 514, 'told': 515, 'stressed': 516, 'roshnimo': 517, 'its_anne': 518, 'photograph': 519, 'aaronrv': 520, 'fukin': 521, 'hr': 522, 'afteral': 523, 'loopt': 524, 'smok': 525, 'whoisariston': 526, 'swap': 527, 'lt': 528, 'staff': 529, 'ya': 530, 'jrk': 531, 'xxstephy': 532, 'beat': 533, 'favourit': 534, 'macbook': 535, 'trusty': 536, 'gamebattl': 537, 'timeless': 538, 'tht': 539, 'html': 540, 'xxxx': 541, 'trek': 542, 'vancooooooov': 543, 'mayb': 544, 'diseas': 545, 'frant': 546, 'araza13': 547, 'tri': 548, 'latest': 549, 'hack': 550, 'hello': 551, 'advert': 552, 'disconcert': 553, 'doa': 554, 'sarap': 555, 'pow': 556, 'par': 557, 'pixelpip': 558, 'dwsmillionthhug': 559, 'eyyy': 560, 'jon_favreau': 561, 'rockin': 562, 'daniela_95616': 563, '½se': 564, 'elect': 565, 'weak': 566, 'annabel': 567, 'jonathanrknight': 568, 'awesom': 569, 'box': 570, 'up': 571, 'put': 572, 'stupid': 573, 'photoshop': 574, 'hopin': 575, 'dsiegel99': 576, 'misstoriblack': 577, 'origin': 578, 'cooool': 579, 'first': 580, 'brol': 581, 'decid': 582, '70': 583, 'hit': 584, 'than': 585, 'downstair': 586, 'ohhh': 587, 'dispatch': 588, 'hard': 589, 'trampoin': 590, 'noth': 591, 'get': 592, 'tid': 593, 'leftov': 594, 'andy': 595, 'skil': 596, 'naw': 597, 'ey': 598, 'fed': 599, 'playin': 600, 'compress': 601, 'bug': 602, 'lordpov': 603, 'purdy': 604, 'mitchel': 605, 'chick': 606, 'microsoft': 607, 'effect': 608, 'indones': 609, 'pro': 610, 'tvc': 611, 'fmsquatro': 612, 'seahors': 613, 'pop': 614, 'dis': 615, 'submit': 616, 'mov': 617, 'fellow': 618, 'wag': 619, 'dg82p9': 620, 'tromp': 621, 'subcrib': 622, 'absorb': 623, 'basketbal': 624, 'cabl': 625, 'muchh': 626, 'philosoph': 627, 'over': 628, 'wint': 629, 'kiss': 630, 'jus': 631, 'shin': 632, '_writersblock_': 633, '1000': 634, 'karaokï': 635, '8': 636, 'e': 637, 'tessm64': 638, 'rec': 639, 'dunham': 640, 'jamesdeen': 641, 'beso': 642, 'luck': 643, 'snarl': 644, 'ma_shink': 645, 'heh': 646, 'mydesir': 647, 'airport': 648, 'allergy': 649, 'tourna': 650, 'nomin': 651, 'nasty': 652, 'ginormic': 653, '224am': 654, 'carolrainbow': 655, 'cec5ka': 656, 'clubzon': 657, 'cococourtney': 658, 'margarhita': 659, 'keyannaa': 660, 'granul': 661, 'premy': 662, 'chees': 663, 'flo': 664, 'lug': 665, 'darkknight808': 666, 'jbruin': 667, 'cattl': 668, 'haircut': 669, 'gpokr': 670, 'stuck': 671, 'm': 672, 'toward': 673, 'ignaci': 674, 'chant': 675, 'quandotcom': 676, 'cush': 677, 'certain': 678, 'savethestrib': 679, 'melamachinko': 680, 'ground': 681, 'yoshig': 682, 'jhok': 683, 'sweet': 684, 'twit': 685, 'mikeex': 686, 'comply': 687, 'emmajap': 688, 'adamgoldston': 689, 'bodycoach': 690, '2y3jp': 691, 'indowebst': 692, 'magop': 693, 'exerc': 694, 'non': 695, 'darn': 696, 'second': 697, 'jokerrr': 698, 'abroad': 699, 'dry': 700, 'msdebramaye': 701, 'lonesom': 702, 'danadearmond': 703, 'yen': 704, 'madra': 705, 'disamperin': 706, 'girlfriend': 707, 'amy': 708, 'diigo': 709, 'hiy': 710, 'glau': 711, 'gon': 712, 'techn': 713, 'korionmor': 714, 'oooooooo': 715, 'tiandr': 716, 'miamiiboi': 717, 'mee': 718, 'fring': 719, 'party': 720, 'danan': 721, 'llam': 722, 'alejandrale': 723, 'path': 724, 'wel': 725, 'wry': 726, 'stand': 727, 'sooooooo': 728, 'heyyyyyy': 729, 'sut': 730, 'bank': 731, 'gen': 732, 'start': 733, 'follw': 734, 'biof': 735, 'london': 736, 'eg': 737, 'debbug': 738, 'wah': 739, 'bittenbybook': 740, 'dmf71': 741, 'ricardooooo': 742, 'bioshock': 743, 'mau': 744, 'dep': 745, 'island': 746, 'michellard': 747, '5248435': 748, 'ircmaxel': 749, 'outtt': 750, 'diego': 751, 'hollywoodh': 752, 'theapto': 753, 'rahm': 754, 'betfair': 755, 'bonjo': 756, 'rub': 757, 'shhhhhhhhhh': 758, 'dogbook': 759, 'imiss': 760, 'twe': 761, 'freeby': 762, 'sequel': 763, 'design': 764, 'know': 765, 'comin': 766, 'tast': 767, 'lexington': 768, 'headstart': 769, 'padr': 770, 'howev': 771, 'bust': 772, 'contactab': 773, 'paisley': 774, 'koqabg': 775, 'brock': 776, 'west': 777, 'baumarkt': 778, 'bananafac': 779, 'ag': 780, 'sophieveronic': 781, 'stimul': 782, 'sauc': 783, 'least': 784, 'jungl': 785, 'reun': 786, 'ghod': 787, 'jack': 788, 'net': 789, 'jumbo': 790, 'disappoint': 791, 'daphn': 792, 'card': 793, 'sock': 794, 'emot': 795, 'throat': 796, 'lmao': 797, 'ff': 798, 'creak': 799, 'drum': 800, 'dxckinyamouth': 801, 'cod': 802, 'paranorm': 803, 'chochomojo': 804, '16': 805, 'stressing': 806, 'said': 807, 'lawnord': 808, 'siz': 809, 'worst': 810, 'month': 811, 'handcod': 812, 'distract': 813, 'org': 814, 'kayl': 815, 'guy': 816, 'travel': 817, 'div': 818, 'peopl': 819, 'slid': 820, 'cs': 821, 'kal_penn': 822, 'puppy': 823, 'bak': 824, 'warp': 825, 'saddest': 826, 'ilovepy': 827, 'sickwiththep': 828, 'potato': 829, 'onemoreproject': 830, 'pullin': 831, 'goooooood': 832, 'slic': 833, 'koodo': 834, 'lightinthesky': 835, 'ahhhh': 836, 'tlot': 837, 'rut': 838, 'annivers': 839, 'stranger': 840, 'blog': 841, 'voic': 842, 'laatin': 843, 'hoyt': 844, 'chris': 845, 'wutch': 846, 'rott': 847, 'angiekayb': 848, 'learn': 849, '2y3ln': 850, 'nachojohnny': 851, 'mand': 852, 'rol': 853, 'atekinzz': 854, 'queen': 855, 'ebay': 856, 'zoo': 857, 'king': 858, 'const': 859, 'disco': 860, 'neil': 861, 'hurry': 862, 'gallblad': 863, 'monday': 864, 'dezin': 865, 'buy': 866, 'mu': 867, 'wond': 868, 'drug': 869, 'id': 870, 'confid': 871, 'cheapy': 872, 'facebook': 873, 'gun': 874, 'nin': 875, 'prescrib': 876, 'cruel': 877, 'pedy': 878, '½n': 879, 'minut': 880, 'sess': 881, '536': 882, 'undernea': 883, 'neat': 884, 'hb': 885, 'dad': 886, 'dant': 887, 'exam': 888, 'hoow': 889, 'nsastrasasmit': 890, 'orph': 891, 'piercethev': 892, 'ireland': 893, 'chalk': 894, 'productoffear': 895, 'guit': 896, 'rees': 897, 'met': 898, 'followin': 899, 'shoedazzl': 900, 'plug': 901, 'approv': 902, 'request': 903, 'bon': 904, 'self': 905, 'caus': 906, 'gd': 907, 'philippin': 908, 'tant': 909, 'xblm': 910, 'johann': 911, 'lead': 912, 'darl': 913, 'iphon': 914, 'sho': 915, 'mzxcs': 916, 'dfcook': 917, 'grab': 918, 'quick': 919, 'sury': 920, 'awww': 921, 'tom': 922, 'toooo': 923, 'ceprv': 924, 'wheth': 925, 'paula_paige3489': 926, 'hm': 927, 'tum': 928, 'scaryyy': 929, 'littrellf': 930, 'puk': 931, 'extr': 932, 'febru': 933, 'johnnyb': 934, 'plurk': 935, 'hun': 936, 'ppl': 937, 'ach': 938, 'jeffsw': 939, 'washington': 940, 'rhonda_brown': 941, 'thund': 942, 'hd': 943, 'burnt': 944, 'jeffr': 945, 'lolly2420': 946, 'veiw': 947, 'gmic': 948, 'kno': 949, 'heard': 950, 'rar': 951, '3': 952, 'cours': 953, 'dough': 954, 'hithavaru': 955, 'ihad': 956, 'cleveland': 957, 'yeah': 958, 'noo': 959, 'arielbh': 960, 'tot': 961, 'lip': 962, 'theexclam': 963, 'alb': 964, 'kcarruth': 965, 'iron': 966, 'gerad': 967, 'convers': 968, 'artic': 969, 'salt': 970, 'picn': 971, 'alarm': 972, 'fight': 973, 'impun': 974, 'pray': 975, 'yum': 976, 'crazy': 977, 'mamasv': 978, 'foamingbbq': 979, 'etc': 980, 'hot': 981, 'shick': 982, 'youtub': 983, 'chair': 984, '1ff65': 985, 'becc': 986, 'nowh': 987, 'outnumb': 988, 'tripc': 989, 'aussie_ali': 990, 'surv': 991, '12': 992, 'jok': 993, 'rachelcmrn': 994, 'ijustin': 995, 'sorry': 996, 'wahh': 997, 'ser': 998, 'john': 999, 'semest': 1000, 'tweep': 1001, 'jew': 1002, 'conveny': 1003, 'tool': 1004, 'sign': 1005, 'kiddo': 1006, 'underground': 1007, 'robgrim': 1008, 'ycs': 1009, 'piss': 1010, 'scowl': 1011, '47': 1012, 'consid': 1013, 'hundr': 1014, 'dai': 1015, 'playl': 1016, 'spee': 1017, 'cocomix04': 1018, 'whyinthehel': 1019, 'clear': 1020, 'help': 1021, 'spank': 1022, 'cantu': 1023, 'contd': 1024, '45': 1025, 'mp1jzfflms0': 1026, 'pas': 1027, 'folk': 1028, 'inch': 1029, 'bun': 1030, 'dangit': 1031, 'prov': 1032, 'robot': 1033, 'degress': 1034, 'everyth': 1035, 'isabellamcul': 1036, 'synch': 1037, 'hank': 1038, 'pack': 1039, 'gift': 1040, 'hopeinhel': 1041, 'study': 1042, 'kitty': 1043, 'bestfriend': 1044, 'bleach': 1045, 'ozesteph1992': 1046, 'wast': 1047, 'everyon': 1048, 'new': 1049, 'blu': 1050, '2y2yi': 1051, 'blank': 1052, 'zon': 1053, 'whatev': 1054, 'dat': 1055, 'shanzer22': 1056, 'cutn': 1057, 'thang': 1058, 'kakï': 1059, 'mexico': 1060, 'doz': 1061, 'nlpride08': 1062, 'libr': 1063, 'reg': 1064, 'congr': 1065, 'structure': 1066, 'sci': 1067, 'wooohhooo': 1068, 'momentbymoment1': 1069, 'tv': 1070, 'wish': 1071, 'wekend': 1072, 'fant': 1073, 'pbnjen': 1074, 'fo': 1075, 'loss': 1076, 'lucky': 1077, 'crummy': 1078, 'mum': 1079, 'ref_type': 1080, 'privarm': 1081, 'vlog': 1082, 'bangggg': 1083, 'inst': 1084, 'dc': 1085, 'buck': 1086, 'mycomicshop': 1087, 'hi': 1088, '50': 1089, 'rebecca1158': 1090, 'lp': 1091, '2pm': 1092, 'carlyrush': 1093, 'e4voip': 1094, 'turbotax': 1095, 'keyboard': 1096, 'scar': 1097, 'limit': 1098, 'pox': 1099, 'starrkiss': 1100, 'rel': 1101, 'kay': 1102, 'connect': 1103, 'igles': 1104, 'road': 1105, 'gay': 1106, 'sd': 1107, '32811': 1108, 'beyont': 1109, '2008': 1110, 'prob': 1111, 'scotch_mist': 1112, '000': 1113, 'theresawhit': 1114, 'kid': 1115, 'dachesterfrench': 1116, '5': 1117, 'yoyoyo': 1118, 'toddlington': 1119, 'rundown': 1120, 'lack': 1121, 'van': 1122, 'splurge': 1123, 'anoth': 1124, 'brand': 1125, 'francesc': 1126, 'pretend': 1127, 'tru': 1128, 'say': 1129, 'whol': 1130, 'augustograph': 1131, 'dierk': 1132, 'tiny': 1133, 'world': 1134, 'websit': 1135, 'bowl': 1136, 'thesouthernst': 1137, 'ttu': 1138, 'akela': 1139, 'city': 1140, 'propos': 1141, 'observ': 1142, '10th': 1143, 'yin': 1144, 'lamb': 1145, 'shaun': 1146, 'nkow': 1147, 'fb': 1148, 'veil': 1149, 'meat': 1150, 'sort': 1151, 'spent': 1152, 'thousand': 1153, 'mtva': 1154, 'aporto': 1155, 'twiggassssssss': 1156, 'empty': 1157, 'attract': 1158, 'gil': 1159, '06fuj': 1160, 'weeeek': 1161, 'kor': 1162, '56': 1163, 'gr8fl': 1164, 'short': 1165, '13th': 1166, 'dem': 1167, 'kittybuffiek': 1168, 'cardiff': 1169, 'ka': 1170, 'sleep': 1171, 'diannepulham': 1172, 'bik': 1173, 'zinedistro': 1174, 'nop': 1175, 'teardrop': 1176, 'screwed': 1177, 'myconnecticut': 1178, 'nap': 1179, 'gee': 1180, 'ulik': 1181, 'sin': 1182, 'clip': 1183, 'gr8': 1184, 'repeaterband': 1185, 'soo': 1186, 'goin': 1187, 'maj': 1188, 'ask': 1189, 'wellbutrin': 1190, 'build': 1191, 'repair': 1192, 'bitchfuck': 1193, 'bout': 1194, 'shoot': 1195, 'adorno': 1196, 'honeytech': 1197, 'alert': 1198, 'cityrat59': 1199, 'paragon': 1200, 'font': 1201, 'j': 1202, 'allow': 1203, 'diddy': 1204, 'cricket': 1205, 'rootin': 1206, 'mmm': 1207, 'energy': 1208, 'pimpl': 1209, 'workshop': 1210, 'simonbot': 1211, '1110': 1212, 'nighttim': 1213, 'disney': 1214, 'r8zf': 1215, 'wait': 1216, 'tivo': 1217, 'kiddin': 1218, '1liners': 1219, 'wii': 1220, 'oop': 1221, 'whitrt': 1222, 'switchfoot': 1223, 'duck': 1224, 'trad': 1225, 'closest': 1226, 'within': 1227, 'veg': 1228, 'dmb': 1229, 'tin': 1230, 'ultim': 1231, 'determin': 1232, 'march': 1233, 'kung': 1234, 'catch': 1235, 'ninasplayground': 1236, 'beleiv': 1237, 'meh': 1238, 'nip': 1239, 'margarit': 1240, 'heidimont': 1241, 'warm': 1242, 'manya': 1243, 'laura_mcauliffe': 1244, 'app': 1245, 'iitsc': 1246, 'heap': 1247, 'landrew': 1248, 'jeep': 1249, 'spencerprat': 1250, 'peac': 1251, 'ax': 1252, 'punch': 1253, 'nomnom': 1254, 'imj': 1255, 'lam': 1256, 'sham': 1257, 'nca': 1258, 'marieclr': 1259, 'team': 1260, 'tryn': 1261, 'aim': 1262, 'g4': 1263, 'vernonhamilton': 1264, 'comeagaind': 1265, 'betzital': 1266, 'glass': 1267, 'little__fish': 1268, 'starburst': 1269, 'nurs': 1270, 'speakeasy': 1271, 'codelust': 1272, 'somebody': 1273, 'screaming': 1274, 'work': 1275, 'nak': 1276, 'ooooohh': 1277, 'loooooonnnng': 1278, 'poach': 1279, '2y3ty': 1280, 'moovarol': 1281, 'bok': 1282, 'crack': 1283, 'sighhhh': 1284, 'are': 1285, 'seat': 1286, 'im': 1287, 'citr': 1288, 'arh': 1289, 'nz': 1290, 'kantu': 1291, 'diann': 1292, 'ronash': 1293, 'gre': 1294, 'paid': 1295, 'facesbyrozzs': 1296, 'enbaldarling': 1297, 'garyphay': 1298, 'lolitariot': 1299, '14': 1300, 'dig': 1301, 'sorrry': 1302, 'ar': 1303, 'doct': 1304, 'franzgla': 1305, 'hillary006': 1306, 'com': 1307, 'dirty': 1308, 'dun': 1309, 'quest': 1310, 'suuup': 1311, 'auf': 1312, 'accid': 1313, 'isnt': 1314, 'viahourt': 1315, 'hhhmmm': 1316, 'word': 1317, 'coat': 1318, 'frenchgcf': 1319, 'contest': 1320, 'cac': 1321, 'hu': 1322, 'rockst': 1323, 'acm': 1324, 'awh': 1325, 'wisdom': 1326, 'draft': 1327, 'court': 1328, 'cam': 1329, 'karaok': 1330, 'bentley': 1331, 'art': 1332, 'blib': 1333, 'yannionlin': 1334, 'turn': 1335, 'damn': 1336, 'dtmafia': 1337, 'newspap': 1338, 'ppukm': 1339, 'paxil': 1340, 'superhero': 1341, 'pity': 1342, 'smal': 1343, 'upd': 1344, 'men': 1345, 'form': 1346, 'achm': 1347, 'phon': 1348, 'il': 1349, 'boooo': 1350, 'alllll': 1351, 'channel': 1352, 'jia_zhen': 1353, 'joolz': 1354, 'tap': 1355, 'kevcho': 1356, 'pic': 1357, 'wwailord': 1358, '2nd': 1359, '8th': 1360, 'teach': 1361, 'l': 1362, 'custom': 1363, 'ilovefatsus': 1364, 'purpl': 1365, 'highest': 1366, 'starrbby': 1367, 'vain': 1368, 'lol': 1369, 'ipod': 1370, 'increas': 1371, 'low': 1372, 'but': 1373, 'broadcast': 1374, 'seattl': 1375, 'tig': 1376, 'doesnt': 1377, 'plz': 1378, 'cup': 1379, 'lil': 1380, 'hermit': 1381, '2y2es': 1382, 'mozunk': 1383, 'ford': 1384, 'bjork': 1385, 'degraw': 1386, 'alright': 1387, 'band': 1388, 'soooo': 1389, 'shopp': 1390, 'until': 1391, 'sometim': 1392, 'nessun': 1393, 'sport': 1394, 'cheechbud': 1395, 'fallout': 1396, 'import': 1397, '30pm': 1398, 'unhappy': 1399, 'cuty': 1400, 'heheh': 1401, 'sick': 1402, 'ahead': 1403, 'shitload': 1404, '360': 1405, 'imagejen': 1406, 'shannonelizab': 1407, 'reap': 1408, 'tumblr': 1409, 'earliest': 1410, 'extinct': 1411, '59': 1412, 'its_nemes': 1413, 'ohsbrat30': 1414, 'cha': 1415, 'macon': 1416, 'hil': 1417, 'whit': 1418, 'convint': 1419, 'prep': 1420, 'ur': 1421, 'adv': 1422, 'shop': 1423, 'nick_carter': 1424, 'herp': 1425, 'bern_morley': 1426, 'ghostth': 1427, 'janebodeh': 1428, 'canad': 1429, 'keepin': 1430, 'amoir': 1431, 'cross': 1432, 'po': 1433, 'hellobeb': 1434, 'st': 1435, 'ee': 1436, 'william': 1437, 'depress': 1438, 'click': 1439, 'nm': 1440, 'bibl': 1441, 'med': 1442, 'caf': 1443, 'attend': 1444, 'crash': 1445, 'jac': 1446, 'tipsen5537': 1447, 'eam': 1448, 'ashok': 1449, 'noodl': 1450, 'whyyyyyyyy': 1451, 'pie': 1452, 'hobby': 1453, 'brian_armstrong': 1454, 'gossip': 1455, 'didnt': 1456, 'fri': 1457, 'row_13': 1458, 'samro': 1459, 'itouch': 1460, 'tir': 1461, 'admit': 1462, 'ready': 1463, 'jerk': 1464, 'comcast': 1465, 'singl': 1466, 'unison': 1467, 'fakerpattypattz': 1468, 'discrimin': 1469, 'hour': 1470, 'leav': 1471, 'lisanoelruocco': 1472, 'worn': 1473, 'cooooffff': 1474, 'ilvdbch': 1475, 'davejmatthew': 1476, 'uh': 1477, 'shut': 1478, 'conf': 1479, 'hotel': 1480, 'soda': 1481, 'network': 1482, 'roy': 1483, 'digitalhum': 1484, 'ye': 1485, 'tomatosals': 1486, 'stain': 1487, 'hibanick': 1488, 'gamert': 1489, 'deal': 1490, 'tak': 1491, 'muahah': 1492, 'djalizay': 1493, 'augh': 1494, 'marabg': 1495, 'fkn': 1496, 'ashleyac': 1497, 'jak': 1498, 'doll': 1499, 'lc': 1500, '13720': 1501, 'r_keith_hill': 1502, 'sist': 1503, 'rumlov': 1504, 'briandavidz': 1505, 'pain': 1506, 'support': 1507, 'wahlberg': 1508, 'margaretcho': 1509, 'embarasssiiiin': 1510, 'far': 1511, 'talk': 1512, 'smel': 1513, 'stumbl': 1514, 'push': 1515, 'bedtim': 1516, 'backstreetboy': 1517, 'wemb': 1518, 'danniasheonlin': 1519, 'duchess_rebecca': 1520, 'yank': 1521, 'twurl': 1522, 'camerafail': 1523, 'fast': 1524, 'ttyl': 1525, 'tip': 1526, 'pres': 1527, 'aswel': 1528, 'pfspleen': 1529, 'yer': 1530, 'ps3': 1531, 'stacylav': 1532, 'louie094': 1533, 'hyperbet': 1534, 'kevin': 1535, 'devious_d': 1536, 'book': 1537, 'train': 1538, 'jerim': 1539, 'sappy': 1540, 'deejay_boogie': 1541, 'quiz': 1542, 'sint': 1543, 'huntermo': 1544, 'squid': 1545, 'viennah': 1546, 'bloody': 1547, 'knor': 1548, 'crimin': 1549, 'purrplex': 1550, 'rud': 1551, '200ml': 1552, 'marw': 1553, 'udah': 1554, 'gown': 1555, 'girlguidecooky': 1556, 'gah': 1557, 'magneto': 1558, 'tryout': 1559, 'beauty': 1560, 'april': 1561, 'spring': 1562, 'microwav': 1563, 'mangaa': 1564, 'tho': 1565, 'celebr': 1566, 'prejud': 1567, 'smoo': 1568, 'mathewsmichael': 1569, 'trenutek': 1570, 'kameelahwrit': 1571, 'kylefox': 1572, 'step': 1573, 'marge_inovera': 1574, 'dvr': 1575, 'enterbelladonn': 1576, 'dr': 1577, 'mzxbg': 1578, 'hpricot': 1579, 'pul': 1580, 'inject': 1581, 'shock': 1582, 'norm': 1583, 'soir': 1584, 'borez': 1585, 'mocku': 1586, 'oneind': 1587, 'kpreyes': 1588, 'rubyrose1': 1589, 'goodlaur': 1590, 'middl': 1591, 'block': 1592, 'divert': 1593, 'spoil': 1594, 'rich': 1595, 'mou': 1596, '7': 1597, 'sooo': 1598, 'anastas': 1599, 'twitp': 1600, 'drink': 1601, 'inform': 1602, 'switchitnow': 1603, 'teaneck': 1604, 'fashionpalet': 1605, 'head': 1606, 'greatest': 1607, '4am': 1608, 'colindem': 1609, 'irc': 1610, 'illeg': 1611, 'velvet': 1612, 'beer': 1613, 'makakasam': 1614, 'ita': 1615, 'lan': 1616, 'nl': 1617, 'pjs': 1618, 'sold': 1619, 'bitch': 1620, 'til': 1621, 'carry': 1622, 'jun': 1623, 'nail': 1624, 'nitey': 1625, 'academy': 1626, 'anyw': 1627, 'slow': 1628, 'anky': 1629, 'drew': 1630, 'draw': 1631, 'household': 1632, '4pm': 1633, 'poo': 1634, 'jephjacqu': 1635, 'spit': 1636, 'ridley1013': 1637, 'yes': 1638, 'thing': 1639, 'imm': 1640, 'hzel': 1641, 'nobody': 1642, 'room': 1643, 'videoid': 1644, 'mzsld': 1645, 'tipsy': 1646, 'hold': 1647, 'sexy': 1648, 'fish': 1649, 'traff': 1650, 'manny': 1651, 'flash': 1652, 'find': 1653, 'embarrass': 1654, 'window': 1655, 'wom': 1656, 'android': 1657, 'loic': 1658, 'xphile1908': 1659, 'michael': 1660, 'stock': 1661, 'dream': 1662, '60': 1663, 'aratak': 1664, 'silkcharm': 1665, 'field': 1666, 'emanuel': 1667, 'looos': 1668, 'ti': 1669, 'dont': 1670, 'timelin': 1671, 'appr': 1672, 'ako': 1673, 'mib': 1674, 'hardest': 1675, 'derher': 1676, 'morrissey': 1677, 'ful': 1678, 'sant': 1679, 'ub': 1680, 'mon': 1681, '6': 1682, 'yet': 1683, 'sleepy': 1684, 'deon': 1685, 'fruit': 1686, 'oft': 1687, 'nottingham': 1688, 'deary': 1689, 'langu': 1690, 'lightblue_82': 1691, 'going': 1692, 'york': 1693, 'hubby': 1694, 'thiss': 1695, 'husband': 1696, 'nah': 1697, 'cuuut': 1698, 'http': 1699, 'seccond': 1700, 'mlm': 1701, 'cameron': 1702, 'diary': 1703, 'berofx': 1704, 'shouldv': 1705, 'theref': 1706, 'away': 1707, '111': 1708, 'skip': 1709, 'stooopeee': 1710, 'okay': 1711, 'chip': 1712, 'corinmcblid': 1713, 'moron': 1714, 'ugh': 1715, 'mumbo': 1716, 'leath': 1717, 'remind': 1718, 'cw2l9t': 1719, 'complet': 1720, 'buu': 1721, 'allyhem': 1722, 'aint': 1723, 'drsecret': 1724, 'brad': 1725, 'sur': 1726, 't_wolfe': 1727, 'bday': 1728, '29823782': 1729, 'letty': 1730, 'amberpac': 1731, 'lexi_83': 1732, 'staciel': 1733, 'huuug': 1734, 'among': 1735, 'pocketfulofm': 1736, 'thuquoc': 1737, 'hellz': 1738, 'hothobolov': 1739, 'wrigley': 1740, 'can': 1741, 'alydesign': 1742, 'zac': 1743, 'cold': 1744, 'kick': 1745, 'csi': 1746, 'peep': 1747, 'kariegl': 1748, 'haif': 1749, 'jennlopez': 1750, 'nba': 1751, 'sex': 1752, 'badass': 1753, 'sor': 1754, 'dorkas426': 1755, 'nat': 1756, 'coast': 1757, 'simonekal': 1758, 'hap': 1759, 'trip': 1760, 'mart': 1761, 'video': 1762, 'shareth': 1763, '2y36e': 1764, 'comput': 1765, 'altrincham': 1766, 'ep': 1767, 'countless': 1768, 'grass': 1769, 'somehow': 1770, 'neck': 1771, 'proud': 1772, 'cok': 1773, 'jacksonvil': 1774, 'sensit': 1775, 'capon': 1776, 'phipstap': 1777, 'mia': 1778, 'mous': 1779, 'jam': 1780, 'kamy775': 1781, 'hir': 1782, 'ahh': 1783, 'direct': 1784, 'jimmycar': 1785, 'ic': 1786, 'thousand_miles': 1787, 'su': 1788, 'wherev': 1789, '2y0fo': 1790, 'could': 1791, 'harass': 1792, '½s': 1793, '395031': 1794, 'immedy': 1795, 'godaddy': 1796, 'jennifermf': 1797, 'edward': 1798, 'pre': 1799, 'offend': 1800, '2y2jf': 1801, 'princess': 1802, 'lon': 1803, 'troubl': 1804, 'taf': 1805, 'born_4_broadway': 1806, 'grouchy': 1807, 'gross': 1808, 'seblefebvr': 1809, 'chopr': 1810, 'bless': 1811, 'infect': 1812, 'coincid': 1813, 'neverwint': 1814, 'spot': 1815, 'sev': 1816, 'khloe': 1817, 'rail': 1818, 'die': 1819, 'wan': 1820, 'desk': 1821, 'col': 1822, 'debby': 1823, 'drdrew': 1824, 'mt': 1825, 'track': 1826, 'wi': 1827, 'tweetdeck': 1828, 'popul': 1829, 'anybody': 1830, 'taliasunset': 1831, 'voc': 1832, 'mrsaintnick': 1833, 'unfavorit': 1834, 'davekim': 1835, 'tuesdayï': 1836, 'pancak': 1837, 'agghhhh': 1838, 'yo': 1839, 'bought': 1840, 'reaaaaad': 1841, 'wmmarc': 1842, 'crunch': 1843, 'awwwww': 1844, 'lukewarm': 1845, 'wordahead': 1846, 'dhol': 1847, 'big': 1848, 'movie': 1849, 'cosby': 1850, 'missrog': 1851, 'perc': 1852, '13': 1853, 'longterm': 1854, 'mich': 1855, 'travesty': 1856, 'fropm': 1857, 'spik': 1858, 'knack': 1859, 'dish': 1860, 'que': 1861, 'clock': 1862, 'although': 1863, 'coit': 1864, 'eat': 1865, 'excel': 1866, 'tee': 1867, 'openoff': 1868, 'knot2serious': 1869, 'donniewahlberg': 1870, 'cov': 1871, 'bush': 1872, 'fem': 1873, 'joy': 1874, 'flippin': 1875, 'vid': 1876, 'badu': 1877, 'outt': 1878, 'itm': 1879, 'asb': 1880, 'anistorm': 1881, 'bcoz': 1882, 'opt': 1883, 'log': 1884, 'knew': 1885, '22': 1886, 'tomomorrow': 1887, 'fnge': 1888, 'jemcam': 1889, '100': 1890, 'speak': 1891, 'adamdext': 1892, 'toe': 1893, 'county': 1894, 'attir': 1895, 'playvideo': 1896, 'cor': 1897, 'una_avion2010': 1898, 'tmi': 1899, 'mixtap': 1900, 'tommyruffin': 1901, 'tothepc': 1902, 'kaeeeep': 1903, 'wtf': 1904, 'keyword': 1905, 'dear': 1906, 'amanor': 1907, 'result': 1908, 'stewiebrittany': 1909, 'tagalog': 1910, 'produc': 1911, 'ak_ng': 1912, 'math': 1913, 'fal': 1914, 'lee_knight': 1915, 'hahahah': 1916, 'kitch': 1917, 'grac': 1918, 'batmanyng': 1919, 'rehears': 1920, 'swop': 1921, 'lbheart_jessica': 1922, 'mars2thestar': 1923, 'pepperon': 1924, 'walk': 1925, 'pout': 1926, 'known': 1927, 'briancrouch': 1928, 'dodg': 1929, 'fury': 1930, 'geez': 1931, 'justgelo': 1932, 'katebornstein': 1933, 'b_barnett': 1934, 'remov': 1935, 'bgs': 1936, 'miss_om': 1937, 'noon': 1938, 'danielc': 1939, 'lume': 1940, 'period': 1941, 'walgreen': 1942, 'brisb': 1943, 'jeffree_star': 1944, 'dangerm0use': 1945, 'hornbach': 1946, 'mid': 1947, 'commerc': 1948, 'har': 1949, 'levon': 1950, 'match': 1951, 'ahhh': 1952, 'spencerordonez': 1953, 'rootbeersoup': 1954, 'lilbucknuts41': 1955, 'victor': 1956, 'eloquentembrac': 1957, 'myk14': 1958, 'cookcs': 1959, 'gettin': 1960, 'eyelash': 1961, '800': 1962, 'street': 1963, 'myspac': 1964, 'gott': 1965, 'ryanmwilson': 1966, 'journey': 1967, 'onthemap': 1968, 'mpconnolly': 1969, 'touch': 1970, 'excit': 1971, 'pepstein': 1972, 'hillydop': 1973, 'quiet': 1974, 'ci': 1975, 'wendy_bowser': 1976, 'infinitydefin': 1977, 'chas': 1978, 'loy': 1979, 'apart': 1980, 'attempt': 1981, 'nashipear': 1982, 'miketomal': 1983, 'hors': 1984, 'bos': 1985, 'latroneb': 1986, 'dread': 1987, 'godson': 1988, 'blooms5887': 1989, 'swiftkaratechop': 1990, 'anyth': 1991, 'bored': 1992, 'cil': 1993, 'lurk': 1994, 'wethetrav': 1995, 'serv': 1996, 'sush': 1997, 'rid': 1998, 'fit': 1999, '__________': 2000, 'eith': 2001, 'trolley': 2002, 'sloanb': 2003, 'anoop': 2004, 'colad': 2005, 'nph': 2006, 'drop': 2007, 'bluestreak23': 2008, 'al': 2009, 'crib': 2010, 'juggernaut': 2011, 'reloc': 2012, 'failwh': 2013, 'radioact': 2014, 'terricook': 2015, 'sophm': 2016, 'chos': 2017, 'ryanseacrest': 2018, 'thursday': 2019, 'hannahsix': 2020, 'fool': 2021, 'nerd': 2022, 'reaa': 2023, 'honey3223': 2024, 'mattgalloway': 2025, 'donny': 2026, 'egypt': 2027, 'man': 2028, 'rain': 2029, 'nor': 2030, 'fing': 2031, 'wer': 2032, 'abt': 2033, 'sjs86': 2034, 'crowdsourc': 2035, 'caffein': 2036, 'rachel': 2037, 'biolog': 2038, 'recov': 2039, 'jai': 2040, 'hamburg': 2041, 'rogiek': 2042, 'quotablebuffy': 2043, 'mtsiaklides': 2044, 'disgust': 2045, 'bil': 2046, 'sinnamon': 2047, 'what': 2048, 'hhrs': 2049, '8gb': 2050, 'commun': 2051, 'temp': 2052, 'crakl': 2053, 'esoterics': 2054, 'mauibeech': 2055, 'forg': 2056, 'search': 2057, 'ruin': 2058, 'skim': 2059, 'peru': 2060, 'thought': 2061, 'mikey': 2062, 'omg': 2063, 'curry': 2064, 'chubbx': 2065, 'ok': 2066, 'weird': 2067, 'wash': 2068, 'conceiv': 2069, 'tix': 2070, 'thank': 2071, 'sery': 2072, 'singap': 2073, 'apolog': 2074, 'download': 2075, 'undergradu': 2076, 'dict': 2077, '4g': 2078, 'verdict': 2079, 'iv': 2080, 'answ': 2081, 'scot': 2082, 'java': 2083, 'convert': 2084, 'espressowoman54': 2085, 'reach': 2086, 'hon': 2087, 'duplex': 2088, '3x8zc': 2089, 'jap': 2090, 'lovin': 2091, 'islandcubfr': 2092, 'hummiemd': 2093, 'vaccin': 2094, 'aaaaahhhh': 2095, 'poor': 2096, 'forward': 2097, 'laundrom': 2098, 'mayhemstudio': 2099, 'check': 2100, 'dea': 2101, 'sarahreedsc': 2102, 'westneyrhindxx': 2103, 'method': 2104, 'lou911': 2105, 'newnownext': 2106, 'unbear': 2107, 'lucky_kristin': 2108, 'switch': 2109, 'homework': 2110, 'spirit': 2111, 'therap': 2112, 'c48gzf': 2113, 'erre_sc': 2114, 'stalk': 2115, 'slessard': 2116, 'amber_benson': 2117, 'row': 2118, 'way': 2119, 'unexpect': 2120, 'index': 2121, 'contract': 2122, 'shar': 2123, 'octob': 2124, 'sua': 2125, 'nanalipzz89': 2126, 'left': 2127, 'angel': 2128, 'tech': 2129, 'gree': 2130, 'lucy': 2131, 'nimbupan': 2132, 'cab': 2133, 'thenub': 2134, 'laundry': 2135, 'toast': 2136, 'sit': 2137, 'gloss': 2138, '30am': 2139, 'sleeeep': 2140, 'unread': 2141, 'celesteclar': 2142, 'sicil': 2143, 'hemisph': 2144, 'long': 2145, 'jersey': 2146, 'mmmmmm': 2147, 'accompany': 2148, 'would': 2149, 'xavy': 2150, 'saravananp': 2151, 'aww': 2152, 'nikst': 2153, '140': 2154, 'sum': 2155, 'dragon': 2156, 'seen': 2157, 'string': 2158, 'izzakizz': 2159, 'england': 2160, 'jessewilson': 2161, 'found': 2162, 'rog': 2163, 'suspicy': 2164, 'larryczerwonk': 2165, 'viabl': 2166, 'aqu': 2167, 'wax': 2168, 'vjl': 2169, 'avlbl': 2170, 'beachb': 2171, 'fre': 2172, '25th': 2173, 'challeng': 2174, 'correct': 2175, 'part': 2176, 'every': 2177, '2y3cf': 2178, 'w': 2179, 'dawn': 2180, '4chan': 2181, 'luis': 2182, 'post': 2183, 'theashbal': 2184, 'gabbyisact': 2185, 'extend': 2186, 'omgawd': 2187, 'fib': 2188, 'yrold': 2189, 'gng': 2190, 'rely': 2191, 'sezdawg': 2192, 'eddieizzard': 2193, 'seny': 2194, 'stark': 2195, 'incendy': 2196, 'mast': 2197, 'mrskutcher': 2198, 'special72': 2199, 'workload': 2200, 'mant': 2201, 'shoog': 2202, 'ankl': 2203, 'sarahmorrmor': 2204, '20pm': 2205, 'default': 2206, 'bh': 2207, 'swear': 2208, 'blip': 2209, 'aly': 2210, 'expery': 2211, 'imac': 2212, 'hell': 2213, 'dar': 2214, 'winggato': 2215, 'veget': 2216, 'ctesdahl': 2217, 'childr': 2218, 'fly': 2219, 'kjong': 2220, '3d': 2221, 'paradise': 2222, 'gefelicidingest': 2223, 'genuin': 2224, 'bffl': 2225, 'sketch': 2226, 'funky': 2227, 'go': 2228, 'jona': 2229, 'yesterday': 2230, 'dian': 2231, 'holiday': 2232, 'sandwich': 2233, 'perm': 2234, 'sam': 2235, 'mind': 2236, 'marykatherine_q': 2237, 'tweet': 2238, '3rd': 2239, 'reek': 2240, 'bbq': 2241, 'wat': 2242, 'jos': 2243, 'mztfi': 2244, 'sour': 2245, 'happpy': 2246, 'sayyyy': 2247, 'muah': 2248, 'spil': 2249, 'qtr': 2250, 'n': 2251, 'law': 2252, 'amount': 2253, 'leavin': 2254, 'appl': 2255, 'outlin': 2256, 'f': 2257, 'whoop': 2258, 'bold': 2259, 'besty': 2260, '75': 2261, 'per': 2262, 'awol': 2263, 'decemb': 2264, '3am': 2265, 'risotto': 2266, 'hunt': 2267, 'twitterfam': 2268, 'robcthegeek': 2269, 'multiply': 2270, 'corrosivecandy': 2271, 'cheeck': 2272, 'dub': 2273, 'rememb': 2274, 'azmamakim': 2275, 'mqu': 2276, 'sew': 2277, 'phantasy': 2278, 'shout': 2279, 'ftf': 2280, 'socy': 2281, 'skiddybabyyy': 2282, 'gig': 2283, 'medicin': 2284, 'zero': 2285, 'freez': 2286, 'amandahess': 2287, 'friday': 2288, 'miss_sil': 2289, 'headphon': 2290, 'sleep_til_noon': 2291, 'cloth': 2292, 'fireston': 2293, 'clos': 2294, 'vampirebil': 2295, 'inyoureyes2410': 2296, 'baltim': 2297, 'ad': 2298, 'spel': 2299, 'rofl': 2300, 'dye': 2301, 'levenrambin': 2302, '½m': 2303, '3x8ok': 2304, 'holy': 2305, 'bunch': 2306, 'recess': 2307, 'brook': 2308, 'tinyurl': 2309, 'qweendassah': 2310, '2y34e': 2311, 'eyelid': 2312, 'bn': 2313, 'climb': 2314, 'welcom': 2315, 'nul': 2316, 'ho': 2317, 'mild': 2318, 'missv': 2319, 'markhopp': 2320, 'acceiv': 2321, 'daaang': 2322, 'ranch': 2323, 'capac': 2324, 'summah': 2325, 'jombuatduit': 2326, 'rosekimknit': 2327, 'zogfqvh2me8': 2328, 'exchang': 2329, 'twist': 2330, 'maczt': 2331, 'paulcol': 2332, 'obscur': 2333, 'mock': 2334, 'amus': 2335, 'duckl': 2336, 'paaaaay': 2337, 'rt': 2338, 'vill': 2339, 'shockwav': 2340, 'strike': 2341, '40': 2342, 'und': 2343, 'fantasy': 2344, 'sandr': 2345, 'nirvan': 2346, 'armin': 2347, 'highlight': 2348, 'unt': 2349, 'snow': 2350, 'delicy': 2351, 'spat': 2352, 'mary': 2353, 'confess': 2354, 'claim': 2355, 'bum': 2356, 'mr': 2357, 'bypass': 2358, 'point': 2359, 'backup': 2360, 'shen': 2361, 'ran': 2362, 'emiliexclarkex': 2363, 'min': 2364, 'drmolliemarti': 2365, 'wanttss': 2366, 'devinthedude007': 2367, 'skylineking722': 2368, 'effin': 2369, 'nad': 2370, 'lsd': 2371, 'wrong': 2372, 'jacobsum': 2373, 'nonsens': 2374, 'person': 2375, 'c': 2376, 'suspect': 2377, 'twitter': 2378, 'ai': 2379, 'pfer': 2380, 'mileycyr': 2381, 'sand': 2382, 'auburn': 2383, 'interv': 2384, 'cast': 2385, 'enough': 2386, 'paulaabd': 2387, 'sem': 2388, 'ryanrossfanz': 2389, 'count': 2390, 'msdrama': 2391, 'chordsy': 2392, 'betty': 2393, 'dr_alli': 2394, 'lay': 2395, 'wesley': 2396, 'humanop': 2397, 'sterl': 2398, 'ooh': 2399, 'colleagu': 2400, 'symbol': 2401, '½t': 2402, 'ba': 2403, '2y3pg': 2404, 'regul': 2405, 'stor': 2406, 'hassox': 2407, 'yi': 2408, 'twitterpeep': 2409, 'surpr': 2410, 'greaa': 2411, 'wra': 2412, 'awwh': 2413, 'mint': 2414, 'pch': 2415, 'feh1325': 2416, 'ist': 2417, 'vinca': 2418, 'boog': 2419, 'errrr': 2420, 'sashak': 2421, 'somethin': 2422, 'battl': 2423, 'au': 2424, 'thursdayyy': 2425, 'gerry_butler': 2426, 'tweezey': 2427, 'star': 2428, 'astewart87': 2429, '771ukx4zhzq': 2430, 'mzp1e': 2431, 'jimmyeatworld': 2432, 'gherkin': 2433, 'laurenrodriguez': 2434, 'three': 2435, 'sudam08': 2436, 'alask': 2437, 'babiiesss': 2438, 'stick': 2439, 'thedebbyry': 2440, 'credit': 2441, 'littl': 2442, '2y1zl': 2443, 'night': 2444, 'swol': 2445, 'bruth': 2446, 'red': 2447, 'ocul': 2448, 'h': 2449, 'upload': 2450, 'reason': 2451, 'davelindqu': 2452, '2y2tq': 2453, 'cheek': 2454, '2552': 2455, 'lappy': 2456, 'suppos': 2457, 'unlov': 2458, 'hay': 2459, 'cuddl': 2460, 'northern': 2461, 'ping': 2462, 'lying': 2463, 'watermellon': 2464, 'aaaaand': 2465, 'fallenstar1': 2466, 'whitney': 2467, 'poot': 2468, 'ryl': 2469, 'metro': 2470, 'ram': 2471, 'mammy': 2472, 'pict': 2473, 'fad': 2474, 'diff': 2475, 'haunt': 2476, 'tommcf': 2477, 'six': 2478, 'caitlind': 2479, 'ouch': 2480, 'set': 2481, 'amp451': 2482, 'gmt': 2483, 'grandp': 2484, 'on': 2485, 'vega': 2486, 'headlin': 2487, 'upsid': 2488, 'jeancjumb': 2489, 'irrit': 2490, 'grrrrr': 2491, 'barrel': 2492, 'bc': 2493, 'hum': 2494, 'alicayab': 2495, 'dark': 2496, 'therealnph': 2497, 'pjaficionado': 2498, 'pinkserendip': 2499, 'raw': 2500, 'reduc': 2501, 'press': 2502, 'respond': 2503, 'twitterfee': 2504, 'magazin': 2505, 'pa': 2506, 'beef': 2507, 'prem': 2508, 'tiredddddd': 2509, 'bakul': 2510, 'interf': 2511, 'ment': 2512, 'sheldawg': 2513, 'ross_robinson': 2514, 'filt': 2515, 'car': 2516, 'kok': 2517, 'upto': 2518, 'hand': 2519, 'disciplin': 2520, 'let': 2521, 'jenniferg07': 2522, 'keepinupwkr': 2523, 'emmaketurah': 2524, 'problem': 2525, 'glittery': 2526, 'nut': 2527, 'rightnowradio': 2528, 'sleepin': 2529, 'upcom': 2530, 'awsom': 2531, 'bathroom': 2532, 'ceas': 2533, 'sucky': 2534, 'bureaucr': 2535, 'mother_catalog_num': 2536, 'plugin': 2537, 'bam': 2538, 'gratitud': 2539, 'rocko': 2540, 'thatï': 2541, 'thestar_rage': 2542, 'worry': 2543, 'yup': 2544, 'eward': 2545, 'obsc': 2546, 'ummmm': 2547, 'trop': 2548, 'soak': 2549, 'brent': 2550, 'kiddy': 2551, 'continu': 2552, 'mem': 2553, 'complaint': 2554, 'qc': 2555, 'kalichosich': 2556, 'ottumw': 2557, 'simpson': 2558, 'mo': 2559, 'staceysoleil': 2560, 'acronym': 2561, '554': 2562, 'rum': 2563, 'makeherfam': 2564, 'grind': 2565, 'jenniferlaurenh': 2566, 'brok': 2567, 'dec': 2568, 'watch': 2569, 'convict': 2570, '10': 2571, 'respons': 2572, 'florid': 2573, 'whatt': 2574, 'esn': 2575, 'lauraw': 2576, 'fyi': 2577, 'gsoc': 2578, 'busybeeblog': 2579, 'din': 2580, 'gnit': 2581, 'statravelau': 2582, 'mercedesashley': 2583, 'shit': 2584, 'hid': 2585, 'nicolerichy': 2586, 'fai': 2587, 'partn': 2588, 'raymondrom': 2589, 'hug': 2590, 'panam': 2591, 'aftermidnightproject': 2592, 'resn': 2593, 'daddy': 2594, 'pokerst': 2595, 'print': 2596, 'bed': 2597, 'info': 2598, 'francisco': 2599, 'woohoo': 2600, 'checkin': 2601, '5wcgx4vqp2o': 2602, 'eyedrop': 2603, 'camill': 2604, 'duba': 2605, 'monst': 2606, 'unforn': 2607, 'wed': 2608, 'fancast': 2609, 'usc': 2610, 'laid': 2611, 'fig': 2612, 'sardin': 2613, 'deepbluesealov': 2614, 'imposs': 2615, 'guest': 2616, 'neccess': 2617, 'tweetup': 2618, 'iluvnkotb': 2619, 'wen': 2620, 'procod': 2621, 'humpninj': 2622, 'scary': 2623, 'loltothepow': 2624, 'spin': 2625, 'oth': 2626, 'op': 2627, 'sprint': 2628, 'look': 2629, 'odst': 2630, 'torturedlady': 2631, 'um': 2632, 'fair': 2633, 'whaaa': 2634, 'ant': 2635, 'axisport': 2636, 'an': 2637, 'neith': 2638, 'nothin': 2639, 'paulmason10538': 2640, 'honey_honeybun': 2641, 'sympathy': 2642, 'matthartley': 2643, 'whenev': 2644, 'writ': 2645, 'ro': 2646, 'coz': 2647, 'retriev': 2648, 'xt': 2649, 'becky': 2650, 'tomorrow': 2651, 'g': 2652, 'along': 2653, '320': 2654, 'iwa': 2655, 'ihop': 2656, 'saw': 2657, 'dreamin': 2658, 'hunch': 2659, 'darealsunisakim': 2660, 'spok': 2661, 'wbpodcast': 2662, 'vicky': 2663, 'forc': 2664, 'maggy': 2665, 'pref': 2666, 'spacecowboy': 2667, 'hamu': 2668, 'blegghhhh': 2669, 'hert': 2670, 'paint': 2671, 'milagro88': 2672, 'maxime68': 2673, 'item_n': 2674, 'sicko': 2675, 'poohpot': 2676, '½': 2677, 'flickr': 2678, 'u': 2679, 'ie': 2680, 'kingston': 2681, 'o': 2682, 'jon': 2683, 'nwo': 2684, 'brian_littrell': 2685, 'volunt': 2686, 'dion': 2687, 'dying': 2688, 'ther': 2689, 'inbox': 2690, 'lunafiko': 2691, 'dong': 2692, 'ilearn': 2693, 'becom': 2694, 'stink': 2695, 'heav': 2696, 'den': 2697, 'thastevieg': 2698, 'nicefacemitchy': 2699, 'bad': 2700, 'might': 2701, 'bid': 2702, 'houndo': 2703, 'soph': 2704, 'strider': 2705, 'nkotb': 2706, 'kal': 2707, 'anim': 2708, 'awak': 2709, 'seem': 2710, 'sayin': 2711, 'donkey': 2712, 'tuesday': 2713, 'n00b': 2714, 'yawwwn': 2715, 'lookin': 2716, 'prevy': 2717, 'cousin': 2718, 'threw': 2719, '2y3cc': 2720, 'blogspot': 2721, 'fil': 2722, 'valentino': 2723, 'hungry': 2724, 'spir': 2725, '8900': 2726, 'siet': 2727, 'buur': 2728, 'anaperiodist': 2729, 'best': 2730, 'radio': 2731, 'cont': 2732, 'knob': 2733, 'thalovebug': 2734, 'napl': 2735, 'nyc': 2736, 'thanktank': 2737, 'ryt': 2738, 'fut': 2739, 'fantast': 2740, 'desp': 2741, 'sleeeeeeeeeep': 2742, 'lifechangingl': 2743, 'alexbigm': 2744, 'ec': 2745, 'tracy': 2746, 'weboword': 2747, 'asset': 2748, 'instead': 2749, 'bmar': 2750, 'ed': 2751, 'ten': 2752, 'otakusecret': 2753, '30': 2754, 'point_moot': 2755, 'hang': 2756, 'chocol': 2757, 'musc': 2758, 'knighty': 2759, 'jump': 2760, '0': 2761, 'matthew': 2762, 'alcohol': 2763, 'yr': 2764, 'tuck': 2765, 'updatingff': 2766, 'offlin': 2767, 'henkuyinepu': 2768, 'spart': 2769, 'legend': 2770, 'craigsutton': 2771, 'someday': 2772, 'wing': 2773, 'gunnn': 2774, 'san': 2775, 'def': 2776, 'applepear': 2777, 'cagcast': 2778, 'bandwagon': 2779, 'casablanc': 2780, 'busy': 2781, 'eh': 2782, 'unworthy': 2783, 'germany': 2784, 'moon': 2785, 'aiduong': 2786, 'sephystryx': 2787, 'its_yvonne': 2788, 'shortiethug': 2789, 'next': 2790, 'razr': 2791, 'hav': 2792, 'suplad': 2793, 'banan': 2794, 'scholarly': 2795, 'pretty': 2796, 'wifey': 2797, 'stilllll': 2798, 'mintcool': 2799, '25mins': 2800, 'morn': 2801, 'champagnemanoir': 2802, 'bock': 2803, 'though': 2804, 'jes': 2805, 'bor': 2806, 'understood': 2807, 'diet': 2808, 'mistygirlph': 2809, 'hightlight': 2810, 'waterfront': 2811, 'refresh': 2812, 'speechless': 2813, 'chalkboard': 2814, 'ahahah': 2815, 'yeheeyyy': 2816, 'captain': 2817, 'crotch': 2818, 'veronica78': 2819, 'sittin': 2820, 'lisaholm': 2821, 'nab': 2822, 'golf': 2823, 'nru': 2824, 'venu': 2825, 'postery': 2826, 'ento': 2827, 'americ': 2828, 'callin': 2829, 'onlin': 2830, 'drept': 2831, 'explain': 2832, 'wrench': 2833, 'cabernet': 2834, 'espresso': 2835, 'chuck': 2836, 'bring': 2837, 'octolinz16': 2838, 'joannafbecket': 2839, 'scoutbuck': 2840, 'becam': 2841, 'peavy': 2842, 'd_castillo': 2843, 'soup': 2844, 'join': 2845, 'via': 2846, 'uid': 2847, 'money': 2848, 'los': 2849, 'ah': 2850, 'ikimb0': 2851, 'fiant': 2852, 'frontst': 2853, 'whereiskevin': 2854, 'ref': 2855, 'emitstop': 2856, 'gear': 2857, 'verfolgern': 2858, 'vivid': 2859, 'retweet': 2860, 'roubaix': 2861, 'ash': 2862, 'ballookey': 2863, 'woodntap': 2864, 'driv': 2865, 'rus': 2866, 'stephenkru': 2867, 'kitteh': 2868, 'grandm': 2869, 'cat': 2870, 'polhil': 2871, '½re': 2872, 'amidst': 2873, 'brow': 2874, 'crappy': 2875, 'item_zoom': 2876, 'sawww': 2877, 'lilo': 2878, 'buttload': 2879, 'lect': 2880, 'slumb': 2881, 'req': 2882, 'di': 2883, 'squirrel': 2884, 'council': 2885, 'pet': 2886, 'chriscantore': 2887, 'hertb': 2888, 'much': 2889, 'thnx': 2890, 'twic': 2891, 'swarley': 2892, 'incred': 2893, 'nath': 2894, 'doubl': 2895, 'cellphon': 2896, 'sheezey': 2897, 'freel': 2898, 'wayyy': 2899, 'rily': 2900, 'research': 2901, 'hey': 2902, 'class': 2903, 'sara_kate': 2904, 'msaleem': 2905, 'somewh': 2906, 'bunny': 2907, 'believ': 2908, 'cozy': 2909, 'contact': 2910, 'wak': 2911, 'bal': 2912, 'nosey': 2913, 'knights_': 2914, 'jbrotherlove': 2915, 'gigdy': 2916, 'emilycello': 2917, 'alam': 2918, 'some1': 2919, 'suit': 2920, 'jamiegirl9': 2921, 'cri': 2922, 'disast': 2923, 'yep': 2924, 'circ': 2925, 'oanhlov': 2926, 'must': 2927, 'coach': 2928, 'noooooo': 2929, 'kenny': 2930, 'sunny': 2931, 'fresno': 2932, 'exec': 2933, 'pay': 2934, 'novel': 2935, 'stou': 2936, 'cak': 2937, 'faithgg45': 2938, 'hurt': 2939, 'grat': 2940, 'earthquak': 2941, 'portland': 2942, 'mzrpe': 2943, 'perform': 2944, 'comparison': 2945, 'pen': 2946, 'bacn': 2947, 'drano': 2948, 'tit': 2949, 'sox': 2950, 'consequ': 2951, 'agh': 2952, 'bah': 2953, 'viv': 2954, 'nause': 2955, 'wor': 2956, 'fountain': 2957, 'pap': 2958, 'imaginarypeach': 2959, 'pal': 2960, 'pinky': 2961, 'congreg': 2962, 'griffmiest': 2963, 'loud': 2964, 'josesos': 2965, 'fan': 2966, 'agr': 2967, 'croon': 2968, 'lodg': 2969, 'suggest': 2970, 'sigh': 2971, 'jasmin': 2972, 'monkey': 2973, 'war': 2974, 'wallpap': 2975, 'plant': 2976, 'tonit': 2977, 'hov': 2978, 'jacket': 2979, 'hawaii808shellz': 2980, 'muir': 2981, 'intend': 2982, 'kenich': 2983, 'plea': 2984, 'flog': 2985, '2y2jz': 2986, 'itï': 2987, 'contactnaveen': 2988, 'reckon': 2989, 'selfcontrol': 2990, 'wht': 2991, 'ellievol': 2992, 'i_reporter': 2993, 'melatonin': 2994, 'mam': 2995, '2y3y0': 2996, 'doggy': 2997, 'stay': 2998, 'mcfly': 2999, 'stroke': 3000, 'vot': 3001, 'inv': 3002, 'eyebrow': 3003, 'goonit': 3004, 'riancurt': 3005, 'combin': 3006, '78': 3007, 'sight': 3008, 'mom': 3009, 'meant': 3010, 'tweetland': 3011, 'belt': 3012, 'laur': 3013, 'blam': 3014, 'unfair': 3015, 'scratch': 3016, 'christmas': 3017, 'tax': 3018, 'amrits': 3019, 'burg': 3020, 'lspearmanii': 3021, 'unfollow': 3022, 'downtown': 3023, '04': 3024, 'run': 3025, 'nc': 3026, 'anyway': 3027, 'mechscap': 3028, 'zip': 3029, 'pool': 3030, 'butterflyb': 3031, 'obam': 3032, 'sad': 3033, 'esp': 3034, 'nod': 3035, 'geekmp3': 3036, 'tag': 3037, 'melt': 3038, 'who': 3039, 'astro': 3040, 'scrappy': 3041, 'brettbodin': 3042, 'tooo': 3043, 'vlogbroth': 3044, 'ontario': 3045, 'poptopvw': 3046, 'k': 3047, 'fiv': 3048, 'prom': 3049, 'plenty': 3050, 'doucheclown': 3051, 'button': 3052, 'suicid': 3053, 'interest': 3054, 'pc': 3055, 'ref_name': 3056, 'risk': 3057, 'idea': 3058, 'aaru': 3059, 'mark': 3060, 'ben_mayer': 3061, 'sa': 3062, 'dreamweav': 3063, 'upstair': 3064, 'kariajay': 3065, 'flow': 3066, 'nodam': 3067, 'tudy': 3068, 'dunno': 3069, 'plain': 3070, 'ty': 3071, 'lvesckmelody': 3072, 'dezignmus': 3073, 'econom': 3074, 'treesahquich': 3075, 'disgruntl': 3076, 'exact': 3077, 'trishzw': 3078, 'punk': 3079, 'whe': 3080, 'green': 3081, 'mir': 3082, 'worthy': 3083, 'n2': 3084, 'sunshin': 3085, '24ï': 3086, 'mob': 3087, 'biofuel': 3088, 'jeff_sparxxx': 3089, 'fourzoa': 3090, 'matt8u': 3091, '12player': 3092, 'jpfurry': 3093, 'dsff': 3094, 'officialjagex': 3095, 'bullshittery': 3096, 'myth': 3097, 'q': 3098, 'preview': 3099, 'birthday': 3100, 'kutnerrr': 3101, 'xbox': 3102, 'fail': 3103, 'pot': 3104, 'e71': 3105, 'hom': 3106, 'delet': 3107, 'chelserlyn': 3108, 'fold': 3109, 'shandasaur': 3110, 'vonst': 3111, 'robgokeemus': 3112, 'hunnybunny': 3113, 'gurumn': 3114, 'lizchavez': 3115, 'drool': 3116, 'easy': 3117, 'guykawasak': 3118, 'milky': 3119, 'birhtday': 3120, 'yur': 3121, 'alaskaair': 3122, 'socc': 3123, 'land': 3124, '2': 3125, 'queenie909': 3126, 'rhifreakx': 3127, 'b': 3128, 'judg': 3129, 'giv': 3130, 'jayant': 3131, 'emmylou': 3132, 'bus': 3133, '4u': 3134, 'resta': 3135, 'stop': 3136, 'halo': 3137, 'doubt': 3138, 'amandaenglund': 3139, 'key': 3140, 'inlov': 3141, 'procrastin': 3142, 'fund': 3143, 'buffy': 3144, 'creek': 3145, 'unc': 3146, 'rvet': 3147, 'overreact': 3148, 'croconaw': 3149, 'raisin': 3150, 'recit': 3151, 'jo': 3152, 'ug': 3153, 'skinny': 3154, 'mobbl': 3155, 'profess': 3156, 'pir': 3157, 'shapeshift': 3158, 'robluket': 3159, 'cal': 3160, 'carlyw66': 3161, 'comfort': 3162, 'chelse': 3163, 'defy': 3164, 'henry': 3165, 'therapyfail': 3166, 'greggrunberg': 3167, 'baby': 3168, 'cry': 3169, 'boy': 3170, 'fact': 3171, 'qual': 3172, 'stack': 3173, 'sampl': 3174, 'scrolling': 3175, 'elut': 3176, 'gal': 3177, 'fml': 3178, 'a5hleyf': 3179, 'frust': 3180, '8yr': 3181, 'holidayholiday': 3182, 'buzz': 3183, 'derby': 3184, 'cru': 3185, 'ballin': 3186, 'degr': 3187, 'pad': 3188, 'adopt': 3189, 'chapstick': 3190, 'wyldceltic1': 3191, 'corybasil': 3192, 'followsavvy': 3193, 'piano': 3194, 'saad_83': 3195, 'lovesbrooklyn2': 3196, 'drivin': 3197, 'limbecky': 3198, 'clarian': 3199, 'looooong': 3200, 'shuck': 3201, 'chicago': 3202, 'toy': 3203, 'amazon': 3204, 'naaaaaaaaaaaaaaaaaaaam': 3205, '200': 3206, 'parol': 3207, 'singlet': 3208, 'ly': 3209, 'hianny': 3210, 'goto': 3211, 'tim': 3212, 'spunky': 3213, 'upst': 3214, 'serendip': 3215, 'careg': 3216, 'couldnt': 3217, 'jacqu': 3218, 'mussomitchel': 3219, '600ms': 3220, 'aaw': 3221, 'gg': 3222, 'soundwav2010': 3223, 'marymayblood': 3224, 'canteen': 3225, 'project': 3226, 'nouveau': 3227, 'show': 3228, 'gagaï': 3229, 'whichev': 3230, 'today': 3231, 'officialrandl': 3232, 'lopez': 3233, 'lovebscot': 3234, 'me': 3235, 'no': 3236, 'albinl': 3237, 'undergrad': 3238, 'rambuncty': 3239, 'iz': 3240, 'cooky': 3241, 'stray': 3242, '5th': 3243, 'aikabel': 3244, 'suckassy': 3245, 'hellivin': 3246, 'vibr': 3247, 'juneaurock': 3248, 'lucky_23': 3249, 'desir': 3250, 'mag': 3251, 'cent': 3252, 'phuckin': 3253, 'ty_fed': 3254, 'doom': 3255, 'karm': 3256, 'cheapyd': 3257, 'bostongard': 3258, 'pract': 3259, 'jeffreecuntst': 3260, 'affirm': 3261, 'bothel': 3262, 'french': 3263, 'pra': 3264, 'a': 3265, 'headach': 3266, 'mess': 3267, 'd9wnza': 3268, 'klar': 3269, 'castl': 3270, 'bay': 3271, 'hamilton': 3272, 'ass': 3273, 'tr': 3274, 'gt': 3275, 'july': 3276, 'think': 3277, 'herd': 3278, 'son': 3279, 'toat': 3280, 'nit': 3281, 'friendst': 3282, 'mmmm': 3283, 'common': 3284, 'bab': 3285, 'icecream': 3286, 'door': 3287, 'togeth': 3288, 'ryanst': 3289, 'mpit': 3290, 'sisterpatterson': 3291, 'kyle44': 3292, 'culmin': 3293, 'discus': 3294, 'recoil': 3295, 'crav': 3296, 'blast': 3297, 'camp': 3298, '2y2wr': 3299, 'kindr': 3300, 'bright': 3301, 'midv': 3302, 'bobby': 3303, 'fict': 3304, 'dead': 3305, 'lauredhel': 3306, 'fleuryl': 3307, 'tautao': 3308, 'sarahsaturday': 3309, '45pm': 3310, '1st': 3311, 'hik': 3312, 'individ': 3313, 'off': 3314, 'marvel': 3315, '6176014': 3316, 'rest': 3317, 'not': 3318, 'nilelegan': 3319, 'invit': 3320, 'el': 3321, '2009': 3322, 'twitta': 3323, 'protest': 3324, 'rat': 3325, 'aw': 3326, 'daylight': 3327, '900': 3328, '_': 3329, 'lady': 3330, 'record': 3331, 'saturday': 3332, 'stinkin': 3333, 'midnight': 3334, 'boot': 3335, 'broadband': 3336, 'leg': 3337, 'nkdreamer': 3338, 'leagu': 3339, 'ladygag': 3340, 'program': 3341, 'shud': 3342, 'unfortunet': 3343, 'interview': 3344, 'brandizzzle08': 3345, 'princesssuperc': 3346, 'top': 3347, 'richardson': 3348, 'wrot': 3349, 'yu': 3350, 'tal': 3351, 'mac': 3352, '67': 3353, 'view': 3354, 'phoneboy': 3355, 'exceiv': 3356, 'nam': 3357, 'jillianf': 3358, 'cupcak': 3359, 'zebr': 3360, 'bb': 3361, 'wednesday': 3362, 'laptop': 3363, 'kil': 3364, 'enjoy': 3365, 'softw': 3366, 'rup': 3367, 'difficult': 3368, 'du': 3369, 'r8zg': 3370, 'alon': 3371, 'danielkirkley': 3372, 'pushplaynick': 3373, 'founnnddd': 3374, 'terr': 3375, 'michaelgra': 3376, 'endless': 3377, 'disapprov': 3378, 'jay': 3379, 'fletch': 3380, 'cant': 3381, 'soon': 3382, 'shazzam': 3383, 'passport': 3384, 'saddl': 3385, '21': 3386, 'photoshoot': 3387, 'speak2ashley': 3388, 'infinitarchitek': 3389, 'vivvid': 3390, 'alliana07': 3391, 'blink': 3392, 'kutn': 3393, 'neighb': 3394, 'cel': 3395, 'high': 3396, 'comp': 3397, 'kourtneykardash': 3398, 'nerf': 3399, 'cxe8w7': 3400, 'anaheim': 3401, 'gf': 3402, 'kuch': 3403, 'roll': 3404, 'bracket': 3405, 'anywh': 3406, 'sulk': 3407, 'publ': 3408, 'definit': 3409, 'fatbellybell': 3410, 'lookthund': 3411, 'orpl3a': 3412, 'rabbit': 3413, 'hoax': 3414, 'heel': 3415, '132am': 3416, 'arrang': 3417, 'adult': 3418, 'danielledeleas': 3419, 'wann': 3420, 'ughh': 3421, 'shak': 3422, 'tim_grainger': 3423, 'trugiaz': 3424, 'ban': 3425, 'fr': 3426, 'trust': 3427, 'hmm': 3428, 'cool': 3429, 'bril': 3430, 'photo': 3431, 'suitcas': 3432, 'supernees': 3433, 'tel': 3434, 'conqu': 3435, 'sud': 3436, 'emilyrup': 3437, 'cled': 3438, 'nw': 3439, 'hwait': 3440, 'chauncey78': 3441, 'i140': 3442, 'sav': 3443, 'vb6': 3444, 'anytim': 3445, 'lutsdol': 3446, 'lyr': 3447, 'fir': 3448, 'btw': 3449, 'annount': 3450, 'josephheustess': 3451, 'intro': 3452, 'discov': 3453, 'strange': 3454, 'dent': 3455, 'aj': 3456, 'apply': 3457, 'alot': 3458, 'udong': 3459, 'coachell': 3460, 'review': 3461, 'bonnie_klid': 3462, 'legm': 3463, 'r8zy': 3464, 'regret': 3465, 'lost': 3466, 'annnd': 3467, 'aaminahh': 3468, 'itchy': 3469, 'hist': 3470, 'allerg': 3471, 'oh': 3472, 'twin': 3473, '31': 3474, '2y2lx': 3475, 'felt': 3476, 'nevertheless': 3477, 'lin': 3478, 'strangely': 3479, 'nok': 3480, 'keeen': 3481, 'naughtyhaughty': 3482, 'denny': 3483, 'pee': 3484, 'huntersmama1985': 3485, 'pok': 3486, 'nikk': 3487, 'kï': 3488, 'feb': 3489, 'overh': 3490, 'glob': 3491, 'trent': 3492, 'round': 3493, 'ashleyskyy': 3494, 'peddy': 3495, 'dann': 3496, 'adida': 3497, 'girlyvu': 3498, 'goldf': 3499, 'ov': 3500, 'tweetshrink': 3501, 'brut': 3502, 'upset': 3503, 'funny': 3504, 'nomadicmat': 3505, '3x99s': 3506, 'becuz': 3507, 'gayforpeavy': 3508, 'heathersul': 3509, 'nee': 3510, 'twivert': 3511, 'koolkidzblock': 3512, 'clubroom': 3513, 'test': 3514, 'bubbl': 3515, 'ear': 3516, 'food': 3517, 'kimkardash': 3518, 'handl': 3519, 'snob': 3520, 'pin': 3521, '41': 3522, 'ooooh': 3523, 'jeal': 3524, 'inept': 3525, 'frago': 3526, 'powerbook': 3527, 'expert': 3528, 'playradioplay': 3529, 'remark': 3530, 'tb': 3531, 'raideil': 3532, 'dang': 3533, 'clam': 3534, 'merclev': 3535, 'ginadeangelo': 3536, 'x': 3537, 'rep': 3538, 'canï': 3539, 'liv': 3540, 'wit': 3541, 'monasmi': 3542, 'toon': 3543, 'atleast': 3544, 'fac': 3545, 'fachatc': 3546, 'sexxyindivid': 3547, 'goodluck': 3548, 'nateflyn': 3549, 'izzy': 3550, 'moooorniiiiiy': 3551, 'mass': 3552, 'sid': 3553, 'saratog': 3554, 'email': 3555, 'blush': 3556, 'bncngoffthwlls': 3557, 'tattoo': 3558, 'kei': 3559, 'kelleyrow': 3560, 'vent': 3561, 'beycah': 3562, 'benhamin': 3563, 'coupl': 3564, 'sel': 3565, 'wind': 3566, 'ballinbitch': 3567, 'charlietm': 3568, 'gav': 3569, 'commit': 3570, 'crush': 3571, 'dweem': 3572, 'also': 3573, 'brainstormprick': 3574, 'fred': 3575, 'peak': 3576, 'losiento': 3577, 'bri': 3578, 'victoriaerin': 3579, 'balamurug': 3580, 'rit': 3581, 'horr': 3582, 'goe': 3583, 'mistak': 3584, 'modern': 3585, 'fuzeb': 3586, 'hal': 3587, 'straiiight': 3588, 'anwb': 3589, 'utah': 3590, 'wagah': 3591, 'heat': 3592, 'cury': 3593, 'bud': 3594, 'bumptop': 3595, 'thornbek': 3596, 'zippy': 3597, 'host': 3598, 'na': 3599, 'marvin': 3600, 'out': 3601, 'pick': 3602, 'katy': 3603, 'sent': 3604, 'owl': 3605, 'paul': 3606, 'expect': 3607, 'rap': 3608, 'marsacademy': 3609, 'bet': 3610, 'lee': 3611, 'kayota': 3612, 'for': 3613, 'vac': 3614, 'v0': 3615, 'gabby': 3616, 'hellhousemed': 3617, 'sofii_noel': 3618, 'martin': 3619, 'mademoisel': 3620, 'lockbox': 3621, 'chine': 3622, 'phil': 3623, 'fee': 3624, 'ijohn': 3625, 'lakin': 3626, 'mahavir': 3627, 'whatch': 3628, 'od': 3629, 'ric': 3630, 'shawnn': 3631, 'lit': 3632, 'grum': 3633, 'db2': 3634, 'crap': 3635, 'agree': 3636, 'awhil': 3637, 'wont': 3638, 'vi': 3639, 'lesson': 3640, 'mykel': 3641, 'bahah': 3642, 'web20classroom': 3643, 'tabl': 3644, 'softbal': 3645, 'arlenecd': 3646, 'defygravity81': 3647, 'heart': 3648, 'mommy': 3649, 'freakin': 3650, 'yayyy': 3651, 'bottl': 3652, 'cigaret': 3653, 'david_henrie': 3654, 'bff': 3655, 'straight': 3656, 'company': 3657, 'phlaimeaux': 3658, 'larg': 3659, 'stiff': 3660, 'uhhh': 3661, 'otherw': 3662, 'erin': 3663, 'pierc': 3664, 'the': 3665, 'catchy': 3666, 'vomit': 3667, 'lilib': 3668, 'god': 3669, 'angry_barista': 3670, 'keeeerrrrriiiii': 3671, 'breakfast': 3672, 'da': 3673, 'august': 3674, 'steve_buscemi': 3675, 'stupido': 3676, 'boston': 3677, 'beachbassbon': 3678, 'univers': 3679, '2y2e2': 3680, 'germ': 3681, 'tredmil': 3682, 'aisl': 3683, 'tha': 3684, 'whal': 3685, 'chazdrum': 3686, 'chang': 3687, '430': 3688, '185k': 3689, 'rj': 3690, 'hous': 3691, 'famy': 3692, 'burrito': 3693, 'jen': 3694, 'vocab': 3695, 'ttsc': 3696, 'hypnos': 3697, 'unclev': 3698, 'milk': 3699, 'reesh': 3700, 'receiv': 3701, 'davidgideon': 3702, 'chumby': 3703, 'ich': 3704, 'katiehayes415': 3705, 'miny': 3706, 'waffl': 3707, 'cream': 3708, 'ttb': 3709, 'rule': 3710, 'pr': 3711, 'donï': 3712, 'psp': 3713, 'carmon': 3714, 'jord': 3715, 'sealclap': 3716, 'aunty': 3717, 'competit': 3718, 'frak': 3719, 'oaf': 3720, '20': 3721, 'bradmantv': 3722, 'ryan': 3723, 'uk': 3724, 'how': 3725, 'pizz': 3726, 'wip': 3727, 'tivon': 3728, '5am': 3729, 'quot': 3730, 'stud': 3731, 'manuscrib': 3732, 'internet': 3733, 'sil': 3734, 'sof': 3735, 'should': 3736, 'skin': 3737, '92': 3738, 'bakery': 3739, 'bro': 3740, 'asham': 3741, 'ughhh': 3742, 'cairo': 3743, 'ip': 3744, 'everythin': 3745, 'ha': 3746, 'pattidigh': 3747, 'hel': 3748, 'ashval': 3749, 'missgoogl': 3750, 'kweside': 3751, 'yaykimo': 3752, 'hp': 3753, 'dayg': 3754, 'drag': 3755, 'struggling': 3756, 'loc': 3757, 'stuff': 3758, 'rerun': 3759, 'ooooooh': 3760, 'across': 3761, 'meanwhil': 3762, 'yamin': 3763, 'appomattox_news': 3764, 'solid': 3765, 'basebal': 3766, 'entir': 3767, 'driveway': 3768, 'marcusmim': 3769, 'jar': 3770, 'buddy': 3771, 'jeanch': 3772, 'don': 3773, 'pum': 3774, 'copout': 3775, 'affect': 3776, 'strain': 3777, 'cli': 3778, 'cheap': 3779, 'djsoulsister': 3780, 'mattyc': 3781, 'lapc': 3782, 'janet': 3783, 'entertain': 3784, 'dbvlwt': 3785, 'cherry': 3786, 'fret': 3787, 'anw': 3788, '4': 3789, 'dcuc33': 3790, 'due': 3791, 'dress': 3792, 'sweetheart': 3793, 'injury': 3794, '9am': 3795, 'frankiekillsyo': 3796, 'neeffresh': 3797, 'sup': 3798, 'scan': 3799, 'year': 3800, 'herr': 3801, 'nickitynatn': 3802, 'gggkeri': 3803, 'sf': 3804, 'read': 3805, 'lutheranlucciol': 3806, 'lunch': 3807, 'demmalit': 3808, 'theleaguesf': 3809, 'brodh': 3810, 'vuittonretard': 3811, 'random': 3812, 'rath': 3813, 'alway': 3814, 'netbal': 3815, 'littlelum': 3816, 'coldd': 3817, 'rachhiiee_': 3818, 'presid': 3819, 'salancast': 3820, 'depend': 3821, 'fishm': 3822, 'ericbttn': 3823, 'pratam': 3824, 'lied': 3825, 'wks': 3826, 'black': 3827, 'lov': 3828, 'asap': 3829, 'katieporrello': 3830, 'detry': 3831, 'psych': 3832, 'ng': 3833, 'ob': 3834, 'e3': 3835, 'austinhil': 3836, 'avat': 3837, 'gag': 3838, 'park': 3839, 'hollywood': 3840, 'chin': 3841, 'apprecy': 3842, 'wors': 3843, 'stomach': 3844, 'right': 3845, 'dramab': 3846, 'adam': 3847, 'snoo': 3848, 'concern': 3849, 'xoxo': 3850, 'noch': 3851, 'flick': 3852, 'slight': 3853, 'forev': 3854, 'begin': 3855, 'highway': 3856, 'watchin': 3857, 'lazy': 3858, 'taco': 3859, 'smug': 3860, 'inspir': 3861, 'mann': 3862, 'trac': 3863, 'cle9pjsras0': 3864, 'item': 3865, 'iamlilnick': 3866, '33': 3867, 'mmcallen': 3868, 'brac': 3869, 'skittl': 3870, 'trash': 3871, 'kant': 3872, 'sunis': 3873, 'madison': 3874, 'starvin': 3875, 'rumblepur': 3876, 'sweeee': 3877, 'mail': 3878, 'bottom': 3879, 'majesticflam': 3880, 'grow': 3881, 'johnhay': 3882, 'softbel': 3883, '½ll': 3884, 'dalecrus': 3885, 'lymph': 3886, 'fallon': 3887, 'wasnt': 3888, 'sue': 3889, 'interrupt': 3890, 'kishorek': 3891, 'tweni': 3892, 'mix': 3893, 'alix_says': 3894, 'twt': 3895, 'franca': 3896, 'folio': 3897, 'oper': 3898, 'redvinylgirl': 3899, 'jazf': 3900, 'nind': 3901, 'workng': 3902, 'juz': 3903, 'evp': 3904, 'stil': 3905, 'link': 3906, 'bord': 3907, 'child': 3908, 'georgeru': 3909, 'fun': 3910, 'guard': 3911, 'undernei': 3912, 'joshy': 3913, 'jeez': 3914, 'stevecl': 3915, 'charg': 3916, 'slept': 3917, 'colem': 3918, 'moony394': 3919, 'machin': 3920, 'derekhousm': 3921, 'studio': 3922, 'stag': 3923, 'carpet': 3924, 'brittyd': 3925, 'socalgurl83': 3926, 'mug': 3927, 'caitlinocon': 3928, 'zealand': 3929, 'bash': 3930, 'jdart': 3931, 'bris': 3932, 'meal': 3933, 'tissietc': 3934, 'bridget': 3935, 'body': 3936, 'whack': 3937, 'charact': 3938, 'bacon': 3939, 'adolesc': 3940, 'ddlovato': 3941, 'sheï': 3942, 'broth': 3943, 'squ': 3944, 'homesick': 3945, 'wet': 3946, 'job': 3947, 'keep': 3948, 'movy': 3949, 'twilight': 3950, '1101': 3951, 'fm': 3952, 'guess': 3953, 'oxford': 3954, 'spid': 3955, 'jizzin': 3956, 'iamjazzyfizzl': 3957, 'electrolyt': 3958, 'gurl': 3959, 'day': 3960, 'boom': 3961, 'blow': 3962, 'labelsnotlov': 3963, 'vitamin': 3964, 'at': 3965, 'holytshirt': 3966, 'scenery': 3967, 'talkin': 3968, 'defin': 3969, 'em': 3970, 'jacatrenich': 3971, 'jenny': 3972, 'hah': 3973, 'claire_brewer': 3974, 'neec': 3975, 'christina': 3976, 'fest': 3977, 'around': 3978, 'spend': 3979, 'linuxfound': 3980, 'yay': 3981, 'tonight': 3982, 'muer': 3983, 'buyolog': 3984, 'missnappyboy': 3985, 'dvd': 3986, 'testa': 3987, 'choos': 3988, 'scent': 3989, 'warf': 3990, 'oach': 3991, 'mraow': 3992, 'haha': 3993, 'goodniight': 3994, 'tracydowd': 3995, 'nightm': 3996, 'twista202': 3997, 'afternoon': 3998, 'erin2011': 3999, 'lisakimflem': 4000, 'ftw': 4001, 'todaaaaay': 4002, 'dammit': 4003, 'nik': 4004, 'hardc': 4005, 'andywan': 4006, 'oj': 4007, 'mccainblogette': 4008, 'perfect': 4009, 'cbf': 4010, 'parcel': 4011, 'mat': 4012, 'greeks05': 4013, 'brown': 4014, '9': 4015, 'nilagy': 4016, 'penndbad': 4017, 'dm': 4018, 'woo': 4019, '80': 4020, 'grrr': 4021, 'wooot': 4022, 'marry': 4023, 'bryon': 4024, 'brew': 4025, 'schedule': 4026, 'athlet': 4027, '311': 4028, 'widyatarin': 4029, 'beb': 4030, 'thecoolestout': 4031, 'jruby': 4032, 'reload': 4033, '11pm': 4034, 'augustineiv': 4035, 'journ': 4036, 'chictop': 4037, 'tongu': 4038, 'leiabox': 4039, 'asleep': 4040, 'includ': 4041, 'underxpos': 4042, 'mouthsex': 4043, 'health4uandpets': 4044, 'apleaforaaron': 4045, 'cred': 4046, 'girl': 4047, 'munchkin': 4048, 'wnt': 4049, 'sony': 4050, 'iï': 4051, 'cbn2': 4052, 'bohd': 4053, 'moscow': 4054, 'bkit': 4055, 'burst': 4056, 'hitokyr': 4057, 'indee': 4058, 'luvvvvv': 4059, 'amyg0716': 4060, 'call': 4061, 'iamdiddy': 4062, 'tm': 4063, 'pag': 4064, 'keny': 4065, 'sound': 4066, 'p': 4067, 'church': 4068, 'twank': 4069, 'therealjspac': 4070, 'recal': 4071, 'meet': 4072, 'amazin': 4073, 'xxx': 4074, 'unholyknight': 4075, 'comedy': 4076, '89': 4077, 'enco': 4078, 'poop': 4079, 'lawl': 4080, 'relax': 4081, 'everbody': 4082, '1099': 4083, 'argh': 4084, 'dreamz': 4085, 'ï': 4086, 'twinnadryl': 4087, 'w1kpvd': 4088, 'olberman': 4089, 'weekend': 4090, 'neg': 4091, 'profil': 4092, 'sydney': 4093, 'someon': 4094, 'newscast': 4095, 'cic': 4096, 'pam': 4097, 'theblondeth': 4098, 'song': 4099, 'tun': 4100, 'fak': 4101, 'mot': 4102, 'tourney': 4103, 'shart': 4104, 'bread': 4105, 'blueargon': 4106, 'gooooood': 4107, 'hk': 4108, 'twittertip': 4109, 'hmmm': 4110, 'struggle': 4111, 'bengottlieb': 4112, 'amp': 4113, 'that': 4114, 'huen': 4115, 'reply': 4116, 'cartoon': 4117, 'maddy': 4118, 'hill': 4119, 'goddamn': 4120, 'remedy': 4121, 'chil': 4122, 'mtub': 4123, 'girlllll': 4124, 'cloudpimp': 4125, 'lemonad': 4126, 'ashleeadam': 4127, 'oooon': 4128, 'mart_id': 4129, 'pound': 4130, 'adri_mane': 4131, 'sun': 4132, 'twitty': 4133, 'joeandjess': 4134, 'phd': 4135, 'elv': 4136, 'plan': 4137, 'unpack': 4138, 'success': 4139, 'en': 4140, 'roast': 4141, 'mandiebear': 4142, 'cash': 4143, 'muth': 4144, 'dumb': 4145, 'calv': 4146, 'bern': 4147, 'wee': 4148, 'mfeatherston': 4149, 'brain': 4150, 'level': 4151, 'unless': 4152, 'phew': 4153, 'sen': 4154, 'zayd': 4155, 'heif': 4156, 'geek': 4157, 'lissym': 4158, 'rock': 4159, 'bkbap': 4160, 'che': 4161, 'syekr': 4162, 'kingdomguard': 4163, 'gunk': 4164, 'strictest': 4165, 'trag': 4166, 'nbn': 4167, 'old': 4168, 'steak': 4169, 'giraff': 4170, 'stol': 4171, 'unlik': 4172, 'cinem': 4173, 'sooooo': 4174, 'acc': 4175, '160': 4176, 'khan': 4177, 'dtmafiaofficial': 4178, 'feat': 4179, 'esuriospirit': 4180, '9th': 4181, 'town': 4182, 'exampl': 4183, 'yaletown': 4184, 'la': 4185, 'want': 4186, 'airlin': 4187, 'hq': 4188, 'jobro': 4189, 'akianz': 4190, 'rul': 4191, 'emy': 4192, 'buckwild': 4193, 'dangersqueezit': 4194, 'strong': 4195, 'suck': 4196, 'cre': 4197, 'kind': 4198, 'bar': 4199, 'missxu': 4200, 'wear': 4201, 'afford': 4202, 'jolil': 4203, 'yessirr': 4204, 'kacimaureen': 4205, 'overdraft': 4206, 'm25': 4207, 'miss': 4208, 'je': 4209, 'sac': 4210, 'noodlebox': 4211, 'looooooong': 4212, 'wick': 4213, 'guilt': 4214, 'noah': 4215, 'season': 4216, 'dud': 4217, 'trentvanega': 4218, 'height': 4219, 'ton': 4220, 'leapt': 4221, 'haway': 4222, 'r': 4223, 'orlando': 4224, 'tre': 4225, 'emb': 4226, 'marley': 4227, '885843': 4228, 'noarmsjam': 4229, 'stomp': 4230, 'celycarmo': 4231, 'lindznicol': 4232, 'jonath': 4233, 'stuiy': 4234, 'arm': 4235, 'congrat': 4236, 'pant': 4237, 'georg': 4238, 'alielay': 4239, 'newslet': 4240, 'attractmod': 4241, 'freaky': 4242, 'freerol': 4243, 'buffalo': 4244, 'yard': 4245, 'edit': 4246, 'jb': 4247, 'mey': 4248, 'levim': 4249, 'billybush': 4250, 'ackin': 4251, 'trumpet': 4252, 'real': 4253, 'group': 4254, 'stok': 4255, 'nespresso': 4256, 'machineplay': 4257, 'beau': 4258, 'tweeterdiv': 4259, 'evict': 4260, 'fab': 4261, 'swim': 4262, 'soillodg': 4263, 'nevadawolf': 4264, 'overal': 4265, '2am': 4266, 'play': 4267, 'feelin': 4268, 'riedel': 4269, 'split': 4270, 'edg': 4271, 'dkoenig': 4272, 'catalog_num': 4273, 'mod': 4274, 'supamag': 4275, 'see': 4276, 'knightowl89': 4277, 'bound': 4278, 'sh': 4279, 'grebel': 4280, 'film': 4281, 'mandayyy': 4282, 'pil': 4283, 'numb': 4284, 'glad': 4285, 'rcompo': 4286, 'cuz': 4287, 'fram': 4288, 'annoy': 4289, 'dialog': 4290, 'bag': 4291, 'prid': 4292, 'jnez': 4293, 'chutney': 4294, 'ev': 4295, 'warn': 4296, 'opteron': 4297, 'tell': 4298, 'lovem': 4299, 'php': 4300, 'tang': 4301, 'tough': 4302, 'ashman01': 4303, 'medit': 4304, 'chef': 4305, 'fel': 4306, 'champ': 4307, 'phys': 4308, 'chucklin': 4309, 'detail': 4310, 'christineirmler': 4311, 'hoody': 4312, 'tempt': 4313, 'anym': 4314, 'californ': 4315, 'mehulbhuv': 4316, 'nearest': 4317, 'simpl': 4318, 'jk': 4319, 'tub': 4320, '11': 4321, 'msg': 4322, 'win': 4323, 'starbuck': 4324, 'aust': 4325, 'pmeanwellralph': 4326, 'mach': 4327, 'erik': 4328, 'skyp': 4329, 'blanket': 4330, 'fav': 4331, 'linux': 4332, 'stell': 4333, 'luv': 4334, 'hear': 4335, 'pko': 4336, 'huh': 4337, 'usernam': 4338, 'ko': 4339, 'pol': 4340, 'week': 4341, 'extract': 4342, 'japanes': 4343, 'shantymanf': 4344, 'rang': 4345, 'clar': 4346, 'youï': 4347, 'kne': 4348, 'mont': 4349, 'scream': 4350, 'hecklerxys': 4351, 'rad': 4352, 'trstfndbby': 4353, 'eff': 4354, 'mattbrag': 4355, 'aparajul': 4356, 'chi': 4357, 'text': 4358, 'tut': 4359, 'flip': 4360, 'c4ooho': 4361, 'con': 4362, 'dbq': 4363, '½en': 4364, 'cud': 4365, 'markhardy1974': 4366, 'excus': 4367, 'scripture': 4368, 'two': 4369, 'tad': 4370, 'hesit': 4371, 'twenty': 4372, 'theragingoc': 4373, 'supersport': 4374, 'vict': 4375, 'nightcard': 4376, 'rumbl': 4377, '1xtti': 4378, 'rewrot': 4379, 'britain': 4380, 'suitelifeofkel': 4381, 'permit': 4382, 'bokky': 4383, 'account': 4384, 'larrycarrol': 4385, 'jonnylawchicago': 4386, 'explet': 4387, 'superbowl': 4388, 'wok': 4389, 'ung': 4390, 'ditto': 4391, 'everywh': 4392, 'devun': 4393, 'costum': 4394, 'craft': 4395, 'addict': 4396, 'brid': 4397, 'money2': 4398, 'europ': 4399, 'hof': 4400, 'instal': 4401, 'chocolate_dip': 4402, 'stuston': 4403, 'whing': 4404, 'background': 4405, 'followinq': 4406, 'ring': 4407, 'kevinruddpm': 4408, 'budget': 4409, 'comfy': 4410, 'ky': 4411, 'gonn': 4412, 'teh': 4413, 'sonnig': 4414, 'outfit': 4415, 'centrelink': 4416, '24': 4417, 'remain': 4418, 'cle': 4419, 'episod': 4420, 'dashboard': 4421, 'third': 4422, 'fin': 4423, 'autograph': 4424, 'nchokkan': 4425, 'story': 4426, 'froz': 4427, 'sing': 4428, 'stev': 4429, 'unpleas': 4430, 'snick_the_dog': 4431, 'allan_at_rogue': 4432, 'simili': 4433, 'throwing': 4434, 'shal': 4435, 'columb': 4436, 'foot': 4437, 'everyday': 4438, 'tp': 4439, 'strawberry': 4440, 'grand': 4441, 'lauruy': 4442, 'toilet': 4443, 'culp': 4444, 'idk': 4445, 'kelly_n_va': 4446, 'mazda3rev': 4447, 'elev': 4448, 'manu': 4449, 'sik': 4450, 'migrain': 4451, 'ap': 4452, 'pkahleeb': 4453, 'breast': 4454, 'carvin1': 4455, 'david': 4456, 'improv': 4457, 'angelsmind': 4458, 'spec': 4459, 'hop': 4460, 'asp': 4461, 'mucho': 4462, 'ago': 4463, 'teusday': 4464, 'ash_ct': 4465, '1am': 4466, 'threatening': 4467, 'havnt': 4468, 'blah': 4469, 'good': 4470, 'heyy': 4471, 'tania38': 4472, '15': 4473, 'heyyyyyyyyyyy': 4474, 'brat': 4475, 'taho': 4476, 'flight': 4477, 'nev': 4478, 'www': 4479, 'imply': 4480, 'combo': 4481, 'absolv': 4482, 'suff': 4483, 'sixty': 4484, 'dnf': 4485, 'mackmain': 4486, 'glu': 4487, 'flu': 4488, 'almost': 4489, 'junk': 4490, 'behind': 4491, 'snarkattack': 4492, 'hsumilo': 4493, 'light': 4494, 'jyesmi': 4495, 'ferretfreakx4': 4496, 'dublin': 4497, 'gard': 4498, 'prop': 4499, 'treaty': 4500, 'tumain': 4501, 'whin': 4502, '2y1pe': 4503, 'rev': 4504, 'nerv': 4505, 'hor': 4506, '1': 4507, 'urbantha': 4508, 'brownston': 4509, 'mizzchievouz': 4510, 'promot': 4511, 'quart': 4512, 'ste': 4513, 'yvon': 4514, 'nic': 4515, 'drunk': 4516, 'hin': 4517, 'lagun': 4518, 'dchetty': 4519, 'liar': 4520, 'hook': 4521, 'aiorselv': 4522, 'ugggggh': 4523, 'bit': 4524, 'weight': 4525, 'already': 4526, 'outsid': 4527, 'forthcom': 4528, 'assign': 4529, 'quit': 4530, 'chill': 4531, 'blagh': 4532, 'lak': 4533, '100th': 4534, 'cur': 4535, 'fox': 4536, 'geoff': 4537, 'pupil': 4538, 'jonathanchard': 4539, 'transl': 4540, 'linnix': 4541, 'juliaroy': 4542, '52': 4543, 'wigsy': 4544, 'ish': 4545, 'leno': 4546, 'leak': 4547, 'stat': 4548, 'snack': 4549, 'chiefdelph': 4550, 'franklin': 4551, 'market': 4552, 'craigsl': 4553, 'helpp': 4554, 'steph': 4555, 'chasepino': 4556, 'rye143gg': 4557, 'cag': 4558, 'prol': 4559, 'qoosfr': 4560, 'country': 4561, 'coff': 4562, 'lj': 4563, 'system': 4564, 'crummyasshol': 4565, 'grr': 4566, 'return': 4567, 'lhawthorn': 4568, 'tan': 4569, 'pamfr': 4570, 'mrsabur': 4571, 'many': 4572, 'tammi_la': 4573, 'noe': 4574, 'dalla': 4575, 'mood': 4576, 'gavin': 4577, 'sou': 4578, 'load': 4579, 'eazydoesit87': 4580, 'lot': 4581, 'someth': 4582, 'tastiest': 4583, 'lolt': 4584, 'luxuryprg': 4585, 'karenucol': 4586, 'emm': 4587, 'danny': 4588, 'mkay': 4589, 'rumah': 4590, 'jst': 4591, 'dc2htx': 4592, 'soundtrack': 4593, 'ex': 4594, 'goo': 4595, 'thru': 4596, 'four': 4597, 'stoned': 4598, '250': 4599, 'sleeep': 4600, 'murd': 4601, 'mattimassacr': 4602, 'wtffffff': 4603, 'glutenfreegirl': 4604, 'uncap': 4605, 'ohh': 4606, 'angst': 4607, 'ter': 4608, 'lavsmoh': 4609, 'yoavseg': 4610, 'lynj65': 4611, 'ut': 4612, 'brettyboo': 4613, 'katort': 4614, 'last': 4615, 'deep': 4616, 'saus': 4617, 'depressd': 4618, 'iow': 4619, 'le': 4620, 'misty': 4621, 'gosh': 4622, '3pm': 4623, 'codez': 4624, 'engl': 4625, 'imalcolmjam': 4626, 'plu': 4627, 'kar': 4628, 'cutest': 4629, 'featherinair': 4630, 'willkuhn': 4631, 'weath': 4632, 'lolol': 4633, 'insomniac': 4634, 'plac': 4635, 'wink': 4636})\n"
          ],
          "name": "stdout"
        }
      ]
    },
    {
      "cell_type": "code",
      "metadata": {
        "id": "avPUP6NT4lzh"
      },
      "source": [
        "# df=pd.DataFrame(vocab.items(),columns=[\"Word\",\"Id\"])\r\n",
        "# df.to_csv(\"gdrive/MyDrive/ProjetNLP/vocab\",index=False)"
      ],
      "execution_count": 53,
      "outputs": []
    },
    {
      "cell_type": "code",
      "metadata": {
        "id": "6jwEmVjd7CNQ"
      },
      "source": [
        "# pd.read_csv(\"gdrive/MyDrive/ProjetNLP/vocab\").set_index(\"Id\").to_dict()"
      ],
      "execution_count": 52,
      "outputs": []
    },
    {
      "cell_type": "code",
      "metadata": {
        "id": "7QxcMosV6YwX"
      },
      "source": [
        "# vocab=pd.read_csv(\"gdrive/MyDrive/ProjetNLP/vocab\")\r\n",
        "# print(vocab)"
      ],
      "execution_count": 51,
      "outputs": []
    },
    {
      "cell_type": "code",
      "metadata": {
        "id": "x9z0zbQbO31u"
      },
      "source": [
        "def transformWords(data,vocab):\r\n",
        "  matrixData=[]\r\n",
        "  maxLen=0\r\n",
        "  if (isinstance(data,list)):\r\n",
        "    if (len(data)>1):\r\n",
        "      for i in range(len(data)):\r\n",
        "        tmp=[]\r\n",
        "        for j in data[i]:\r\n",
        "          if (j not in vocab.keys()):\r\n",
        "            tmp.append(0)\r\n",
        "          else:\r\n",
        "            tmp.append(vocab[j])\r\n",
        "        matrixData.append(tmp)\r\n",
        "    else:\r\n",
        "      for i in data:\r\n",
        "        if (i not in vocab.keys()):\r\n",
        "          matrixData.append(0)\r\n",
        "        else:\r\n",
        "          matrixData.append(vocab[i])\r\n",
        "  else:\r\n",
        "    for i in range(len(data)):\r\n",
        "      for j in range(len(data[i])):\r\n",
        "        if (maxLen < len(data[i][j])):\r\n",
        "          maxLen= len(data[i][j])\r\n",
        "\r\n",
        "    for i in range(len(data)):\r\n",
        "      for j in range(len(data[i])):\r\n",
        "        tmp=[]\r\n",
        "        for k in range(maxLen):\r\n",
        "          if (k >= len(data[i][j])):\r\n",
        "            tmp.append(vocab['<PAD>'])\r\n",
        "          else:\r\n",
        "            tmp.append(vocab[data[i][j][k]])\r\n",
        "        matrixData.append(tmp)\r\n",
        "  return matrixData"
      ],
      "execution_count": 49,
      "outputs": []
    },
    {
      "cell_type": "code",
      "metadata": {
        "id": "QyL0yeQLJeUW"
      },
      "source": [
        "data=transformWords(data)\r\n",
        "datas=np.array([df.iloc[1000:2000][5],df.iloc[801000:802000][5]])\r\n",
        "datas=processing(datas)\r\n",
        "datas=transformWords(datas)"
      ],
      "execution_count": null,
      "outputs": []
    },
    {
      "cell_type": "code",
      "metadata": {
        "id": "UY5YAQgF-ybW"
      },
      "source": [
        "data=np.array(data)\r\n",
        "datas=np.array(datas)"
      ],
      "execution_count": null,
      "outputs": []
    },
    {
      "cell_type": "code",
      "metadata": {
        "id": "8e6eAwEM8HIB"
      },
      "source": [
        "def buildModelLSTM(vocab):\r\n",
        "  model=tf.keras.Sequential()\r\n",
        "  model.add(tf.keras.layers.Embedding(input_dim=len(vocab)+1,output_dim=1))\r\n",
        "  model.add(tf.keras.layers.LSTM(128,activation=\"relu\"))\r\n",
        "  model.add(tf.keras.layers.Dense(1,activation=\"sigmoid\"))\r\n",
        "  return model"
      ],
      "execution_count": 50,
      "outputs": []
    },
    {
      "cell_type": "code",
      "metadata": {
        "id": "u5hSGoAWX1eK"
      },
      "source": [
        "def buildModelSimpleRNN(vocab):\r\n",
        "  model=tf.keras.Sequential()\r\n",
        "  model.add(tf.keras.layers.Embedding(input_dim=len(vocab)+1,output_dim=1))\r\n",
        "  model.add(tf.keras.layers.SimpleRNN(128,activation=\"relu\"))\r\n",
        "  model.add(tf.keras.layers.Dense(1,activation=\"sigmoid\"))\r\n",
        "  return model"
      ],
      "execution_count": 51,
      "outputs": []
    },
    {
      "cell_type": "code",
      "metadata": {
        "colab": {
          "base_uri": "https://localhost:8080/"
        },
        "id": "EFaMVFSxZHcH",
        "outputId": "449eaf3f-c0bf-4708-e7d4-992ca325d76a"
      },
      "source": [
        "print(data)"
      ],
      "execution_count": null,
      "outputs": [
        {
          "output_type": "stream",
          "text": [
            "[[3247 2503 1010 ...    1    1    1]\n",
            " [1111 2347  791 ...    1    1    1]\n",
            " [3224 4596  394 ...    1    1    1]\n",
            " ...\n",
            " [1920 1034 3096 ...    1    1    1]\n",
            " [2084 2253 2078 ...    1    1    1]\n",
            " [ 107  667 1282 ...    1    1    1]]\n"
          ],
          "name": "stdout"
        }
      ]
    },
    {
      "cell_type": "code",
      "metadata": {
        "id": "2ZJHW75PqsU2"
      },
      "source": [
        "# model=buildModel()\r\n",
        "# def fitModel(model,trainSize): #trainSize = taille des données prises en compte pour le fit (ex : si on crée le modèle en lui donnant 20 phrases, trainSize=20)\r\n",
        "#Attention, ici on a configuré le y_train pour qu'il y ait une part égale de commentaires positifs/négatifs\r\n",
        "def fitModel(data,model,negSize,posSize):\r\n",
        "  y_train=np.concatenate([np.zeros((negSize,1)),np.ones((posSize,1))])\r\n",
        "  model.compile(loss='binary_crossentropy',optimizer=\"adam\")\r\n",
        "  model.fit(data,y_train,epochs=50)"
      ],
      "execution_count": 52,
      "outputs": []
    },
    {
      "cell_type": "code",
      "metadata": {
        "id": "sKB4t_HsvYWt"
      },
      "source": [
        "import os\r\n",
        "def final_LSTM(sentence):\r\n",
        "  threshold=0.2\r\n",
        "  model_file=\"LSTM_Model\"\r\n",
        "  if (not os.path.isdir(\"gdrive/MyDrive/ProjetNLP/\"+model_file)):\r\n",
        "    df=pd.read_csv('gdrive/MyDrive/ProjetNLP/training.1600000.processed.noemoticon.csv',encoding=\"ISO-8859-1\",header=None)\r\n",
        "    x_train=np.array([df.iloc[0:1000][5],df.iloc[800000:801000][5]])\r\n",
        "    x_train=processing(x_train)\r\n",
        "    vocab=defineVocab(x_train)\r\n",
        "    df=pd.DataFrame(vocab.items(),columns=[\"Word\",\"Id\"])\r\n",
        "    df.to_csv(\"gdrive/MyDrive/ProjetNLP/vocab\")\r\n",
        "    x_train=transformWords(x_train,vocab)\r\n",
        "    x_train=np.array(x_train)\r\n",
        "    model=buildModelLSTM(vocab)\r\n",
        "    fitModel(x_train,model,1000,1000)\r\n",
        "    model.save(\"gdrive/MyDrive/ProjetNLP/\"+model_file)\r\n",
        "  else:\r\n",
        "    model=tf.keras.models.load_model(\"gdrive/MyDrive/ProjetNLP/\"+model_file)\r\n",
        "    vocab=pd.read_csv(\"gdrive/MyDrive/ProjetNLP/vocab\").set_index(\"Word\").to_dict()[\"Id\"]\r\n",
        "  # return model\r\n",
        "  sentence=processing(sentence)\r\n",
        "  sentence=transformWords(sentence,vocab)\r\n",
        "  sentence=np.array(sentence)\r\n",
        "  if (len(sentence.shape)==1 and len(sentence)==1):\r\n",
        "    if (model.predict(np.expand_dims(sentence,axis=0))<threshold):\r\n",
        "      commentTypes=\"Negative\"\r\n",
        "    else:\r\n",
        "      commentTypes=\"Positive\"\r\n",
        "  else:\r\n",
        "    commentTypes=[]\r\n",
        "    for i in range(len(sentence)):\r\n",
        "      if (model.predict(np.expand_dims(sentence[i],axis=0))<threshold):\r\n",
        "        commentTypes.append(\"Negative\")\r\n",
        "      else:\r\n",
        "        commentTypes.append(\"Positive\")\r\n",
        "  return commentTypes\r\n",
        "\r\n",
        "\r\n"
      ],
      "execution_count": 53,
      "outputs": []
    },
    {
      "cell_type": "code",
      "metadata": {
        "id": "EErDV8ZNaM2H"
      },
      "source": [
        "import os\r\n",
        "def final_SimpleRNN(sentence):\r\n",
        "  threshold=0.4\r\n",
        "  model_file=\"SimpleRNN_Model\"\r\n",
        "  if (not os.path.isdir(\"gdrive/MyDrive/ProjetNLP/\"+model_file)):\r\n",
        "    df=pd.read_csv('gdrive/MyDrive/ProjetNLP/training.1600000.processed.noemoticon.csv',encoding=\"ISO-8859-1\",header=None)\r\n",
        "    x_train=np.array([df.iloc[0:1000][5],df.iloc[800000:801000][5]])\r\n",
        "    x_train=processing(x_train)\r\n",
        "    vocab=defineVocab(x_train)\r\n",
        "    df=pd.DataFrame(vocab.items(),columns=[\"Word\",\"Id\"])\r\n",
        "    df.to_csv(\"gdrive/MyDrive/ProjetNLP/vocab\")\r\n",
        "    x_train=transformWords(x_train,vocab)\r\n",
        "    x_train=np.array(x_train)\r\n",
        "    model=buildModelSimpleRNN(vocab)\r\n",
        "    fitModel(x_train,model,1000,1000)\r\n",
        "    model.save(\"gdrive/MyDrive/ProjetNLP/\"+model_file)\r\n",
        "  else:\r\n",
        "    model=tf.keras.models.load_model(\"gdrive/MyDrive/ProjetNLP/\"+model_file)\r\n",
        "    vocab=pd.read_csv(\"gdrive/MyDrive/ProjetNLP/vocab\").set_index(\"Word\").to_dict()[\"Id\"]\r\n",
        "  # return model\r\n",
        "  sentence=processing(sentence)\r\n",
        "  sentence=transformWords(sentence,vocab)\r\n",
        "  sentence=np.array(sentence)\r\n",
        "  if (len(sentence.shape)==1 and len(sentence)==1):\r\n",
        "    if (model.predict(np.expand_dims(sentence,axis=0))<threshold):\r\n",
        "      commentTypes=\"Negative\"\r\n",
        "    else:\r\n",
        "      commentTypes=\"Positive\"\r\n",
        "  else:\r\n",
        "    commentTypes=[]\r\n",
        "    for i in range(len(sentence)):\r\n",
        "      if (model.predict(np.expand_dims(sentence[i],axis=0))<threshold):\r\n",
        "        commentTypes.append(\"Negative\")\r\n",
        "      else:\r\n",
        "        commentTypes.append(\"Positive\")\r\n",
        "  return commentTypes\r\n",
        "\r\n",
        "\r\n"
      ],
      "execution_count": 54,
      "outputs": []
    },
    {
      "cell_type": "code",
      "metadata": {
        "colab": {
          "base_uri": "https://localhost:8080/"
        },
        "id": "ZkgDTUr4VlfG",
        "outputId": "6a0d8c76-dab1-4073-cce3-6311f0df9ebb"
      },
      "source": [
        "# LSTM=final_LSTM(\"Very tidy and lovely AirBnb apartment equipped with everything you need. A good bed and nice bathroom. Paul is a great host and there when you need him, Very nice and wants to share all hé know about the area. We had a great stay!\")\r\n",
        "# print(LSTM)\r\n",
        "final_LSTM(x_test)"
      ],
      "execution_count": 66,
      "outputs": [
        {
          "output_type": "stream",
          "text": [
            "WARNING:tensorflow:11 out of the last 11 calls to <function Model.make_predict_function.<locals>.predict_function at 0x7f5cee10fe60> triggered tf.function retracing. Tracing is expensive and the excessive number of tracings could be due to (1) creating @tf.function repeatedly in a loop, (2) passing tensors with different shapes, (3) passing Python objects instead of tensors. For (1), please define your @tf.function outside of the loop. For (2), @tf.function has experimental_relax_shapes=True option that relaxes argument shapes that can avoid unnecessary retracing. For (3), please refer to https://www.tensorflow.org/guide/function#controlling_retracing and https://www.tensorflow.org/api_docs/python/tf/function for  more details.\n"
          ],
          "name": "stdout"
        },
        {
          "output_type": "stream",
          "text": [
            "/usr/local/lib/python3.7/dist-packages/ipykernel_launcher.py:23: VisibleDeprecationWarning: Creating an ndarray from ragged nested sequences (which is a list-or-tuple of lists-or-tuples-or ndarrays with different lengths or shapes) is deprecated. If you meant to do this, you must specify 'dtype=object' when creating the ndarray\n"
          ],
          "name": "stderr"
        },
        {
          "output_type": "stream",
          "text": [
            "WARNING:tensorflow:11 out of the last 11 calls to <function Model.make_predict_function.<locals>.predict_function at 0x7f5cee10fe60> triggered tf.function retracing. Tracing is expensive and the excessive number of tracings could be due to (1) creating @tf.function repeatedly in a loop, (2) passing tensors with different shapes, (3) passing Python objects instead of tensors. For (1), please define your @tf.function outside of the loop. For (2), @tf.function has experimental_relax_shapes=True option that relaxes argument shapes that can avoid unnecessary retracing. For (3), please refer to https://www.tensorflow.org/guide/function#controlling_retracing and https://www.tensorflow.org/api_docs/python/tf/function for  more details.\n",
            "WARNING:tensorflow:11 out of the last 11 calls to <function Model.make_predict_function.<locals>.predict_function at 0x7f5cee10fe60> triggered tf.function retracing. Tracing is expensive and the excessive number of tracings could be due to (1) creating @tf.function repeatedly in a loop, (2) passing tensors with different shapes, (3) passing Python objects instead of tensors. For (1), please define your @tf.function outside of the loop. For (2), @tf.function has experimental_relax_shapes=True option that relaxes argument shapes that can avoid unnecessary retracing. For (3), please refer to https://www.tensorflow.org/guide/function#controlling_retracing and https://www.tensorflow.org/api_docs/python/tf/function for  more details.\n"
          ],
          "name": "stdout"
        },
        {
          "output_type": "execute_result",
          "data": {
            "text/plain": [
              "['Positive', 'Positive', 'Positive']"
            ]
          },
          "metadata": {
            "tags": []
          },
          "execution_count": 66
        }
      ]
    },
    {
      "cell_type": "code",
      "metadata": {
        "colab": {
          "base_uri": "https://localhost:8080/"
        },
        "id": "nNrtuQWTa9Eh",
        "outputId": "6d152c8e-3ef6-4170-8df3-3d961696baa8"
      },
      "source": [
        "# Simple_RNN=final_SimpleRNN(\"Very tidy and lovely AirBnb apartment equipped with everything you need. A good bed and nice bathroom. Paul is a great host and there when you need him, Very nice and wants to share all hé know about the area. We had a great stay!\")\r\n",
        "# print(Simple_RNN)\r\n",
        "final_SimpleRNN(x_test2)"
      ],
      "execution_count": 67,
      "outputs": [
        {
          "output_type": "stream",
          "text": [
            "WARNING:tensorflow:11 out of the last 11 calls to <function Model.make_predict_function.<locals>.predict_function at 0x7f5cee15a050> triggered tf.function retracing. Tracing is expensive and the excessive number of tracings could be due to (1) creating @tf.function repeatedly in a loop, (2) passing tensors with different shapes, (3) passing Python objects instead of tensors. For (1), please define your @tf.function outside of the loop. For (2), @tf.function has experimental_relax_shapes=True option that relaxes argument shapes that can avoid unnecessary retracing. For (3), please refer to https://www.tensorflow.org/guide/function#controlling_retracing and https://www.tensorflow.org/api_docs/python/tf/function for  more details.\n"
          ],
          "name": "stdout"
        },
        {
          "output_type": "stream",
          "text": [
            "/usr/local/lib/python3.7/dist-packages/ipykernel_launcher.py:23: VisibleDeprecationWarning: Creating an ndarray from ragged nested sequences (which is a list-or-tuple of lists-or-tuples-or ndarrays with different lengths or shapes) is deprecated. If you meant to do this, you must specify 'dtype=object' when creating the ndarray\n"
          ],
          "name": "stderr"
        },
        {
          "output_type": "stream",
          "text": [
            "WARNING:tensorflow:11 out of the last 11 calls to <function Model.make_predict_function.<locals>.predict_function at 0x7f5cee15a050> triggered tf.function retracing. Tracing is expensive and the excessive number of tracings could be due to (1) creating @tf.function repeatedly in a loop, (2) passing tensors with different shapes, (3) passing Python objects instead of tensors. For (1), please define your @tf.function outside of the loop. For (2), @tf.function has experimental_relax_shapes=True option that relaxes argument shapes that can avoid unnecessary retracing. For (3), please refer to https://www.tensorflow.org/guide/function#controlling_retracing and https://www.tensorflow.org/api_docs/python/tf/function for  more details.\n",
            "WARNING:tensorflow:11 out of the last 11 calls to <function Model.make_predict_function.<locals>.predict_function at 0x7f5cee15a050> triggered tf.function retracing. Tracing is expensive and the excessive number of tracings could be due to (1) creating @tf.function repeatedly in a loop, (2) passing tensors with different shapes, (3) passing Python objects instead of tensors. For (1), please define your @tf.function outside of the loop. For (2), @tf.function has experimental_relax_shapes=True option that relaxes argument shapes that can avoid unnecessary retracing. For (3), please refer to https://www.tensorflow.org/guide/function#controlling_retracing and https://www.tensorflow.org/api_docs/python/tf/function for  more details.\n"
          ],
          "name": "stdout"
        },
        {
          "output_type": "execute_result",
          "data": {
            "text/plain": [
              "['Positive', 'Positive', 'Positive']"
            ]
          },
          "metadata": {
            "tags": []
          },
          "execution_count": 67
        }
      ]
    },
    {
      "cell_type": "code",
      "metadata": {
        "id": "oTP2u-38GAeT"
      },
      "source": [
        "from sklearn.metrics import f1_score\r\n",
        "def defineThreshold(datas,model):\r\n",
        "  y_train=np.concatenate([np.zeros((1000,1)),np.ones((1000,1))])\r\n",
        "  seuils=[0.1,0.2,0.3,0.4,0.5,0.6,0.7,0.8,0.9]\r\n",
        "  F1_score=[]\r\n",
        "  predict=model.predict(datas)\r\n",
        "  for seuil in seuils:\r\n",
        "    predictions=[]\r\n",
        "    for i in range(len(datas)):\r\n",
        "      if (predict[i]<seuil):\r\n",
        "        predictions.append(0)\r\n",
        "      else:\r\n",
        "        predictions.append(1)\r\n",
        "    F1_score.append(f1_score(y_train,predictions))\r\n",
        "  print(F1_score)\r\n",
        "  seuil=seuils[F1_score.index(max(F1_score))]\r\n",
        "  print(seuil)\r\n",
        "  return seuil"
      ],
      "execution_count": 144,
      "outputs": []
    },
    {
      "cell_type": "code",
      "metadata": {
        "id": "BuDbula2JVgt"
      },
      "source": [
        "# defineThreshold(np.array(dat),Simple_RNN)"
      ],
      "execution_count": 149,
      "outputs": []
    },
    {
      "cell_type": "code",
      "metadata": {
        "id": "CIuTbTBDGpW4"
      },
      "source": [
        "# np.expand_dims(datas[i],axis=0)"
      ],
      "execution_count": null,
      "outputs": []
    }
  ]
}